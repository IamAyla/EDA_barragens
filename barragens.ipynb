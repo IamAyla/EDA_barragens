{
 "cells": [
  {
   "cell_type": "markdown",
   "id": "6f18a469",
   "metadata": {},
   "source": [
    "# Carregando as bibliotecas necessárias"
   ]
  },
  {
   "cell_type": "code",
   "execution_count": 1,
   "id": "05f63c8d",
   "metadata": {},
   "outputs": [
    {
     "data": {
      "application/javascript": [
       "\n",
       "            setTimeout(function() {\n",
       "                var nbb_cell_id = 1;\n",
       "                var nbb_unformatted_code = \"# Para manipular dados\\nimport numpy as np\\nimport pandas as pd\\n\\n# Para gr\\u00e1ficos\\nimport matplotlib.pyplot as plt\\nimport seaborn as sns\\n\\n# Para mapas\\nimport requests\\nimport folium\\n\\n# Possibilita que todos os outputs apare\\u00e7am\\nfrom IPython.core.interactiveshell import InteractiveShell\\n\\nInteractiveShell.ast_node_interacyivity = \\\"all\\\"\\n\\n# Ignorando os avisos\\nimport sys\\nimport warnings\\n\\nwarnings.filterwarnings(\\\"ignore\\\")\\n\\n# Seta os limites m\\u00e1ximode colunas e linhas\\npd.options.display.max_columns = 500\\npd.options.display.max_rows = 500\\n\\n# Settings para padroniza\\u00e7\\u00e3o de outputs\\nsns.set()\\npd.options.display.max_columns = 500\\nplt.style.use(\\\"fivethirtyeight\\\")\\nplt.rcParams[\\\"figure.figsize\\\"] = [10, 5]\\n%load_ext nb_black\";\n",
       "                var nbb_formatted_code = \"# Para manipular dados\\nimport numpy as np\\nimport pandas as pd\\n\\n# Para gr\\u00e1ficos\\nimport matplotlib.pyplot as plt\\nimport seaborn as sns\\n\\n# Para mapas\\nimport requests\\nimport folium\\n\\n# Possibilita que todos os outputs apare\\u00e7am\\nfrom IPython.core.interactiveshell import InteractiveShell\\n\\nInteractiveShell.ast_node_interacyivity = \\\"all\\\"\\n\\n# Ignorando os avisos\\nimport sys\\nimport warnings\\n\\nwarnings.filterwarnings(\\\"ignore\\\")\\n\\n# Seta os limites m\\u00e1ximode colunas e linhas\\npd.options.display.max_columns = 500\\npd.options.display.max_rows = 500\\n\\n# Settings para padroniza\\u00e7\\u00e3o de outputs\\nsns.set()\\npd.options.display.max_columns = 500\\nplt.style.use(\\\"fivethirtyeight\\\")\\nplt.rcParams[\\\"figure.figsize\\\"] = [10, 5]\\n%load_ext nb_black\";\n",
       "                var nbb_cells = Jupyter.notebook.get_cells();\n",
       "                for (var i = 0; i < nbb_cells.length; ++i) {\n",
       "                    if (nbb_cells[i].input_prompt_number == nbb_cell_id) {\n",
       "                        if (nbb_cells[i].get_text() == nbb_unformatted_code) {\n",
       "                             nbb_cells[i].set_text(nbb_formatted_code);\n",
       "                        }\n",
       "                        break;\n",
       "                    }\n",
       "                }\n",
       "            }, 500);\n",
       "            "
      ],
      "text/plain": [
       "<IPython.core.display.Javascript object>"
      ]
     },
     "metadata": {},
     "output_type": "display_data"
    }
   ],
   "source": [
    "# Para manipular dados\n",
    "import numpy as np\n",
    "import pandas as pd\n",
    "\n",
    "# Para gráficos\n",
    "import matplotlib.pyplot as plt\n",
    "import seaborn as sns\n",
    "\n",
    "# Para mapas\n",
    "import requests\n",
    "import folium\n",
    "\n",
    "# Possibilita que todos os outputs apareçam\n",
    "from IPython.core.interactiveshell import InteractiveShell\n",
    "\n",
    "InteractiveShell.ast_node_interacyivity = \"all\"\n",
    "\n",
    "# Ignorando os avisos\n",
    "import sys\n",
    "import warnings\n",
    "\n",
    "warnings.filterwarnings(\"ignore\")\n",
    "\n",
    "# Seta os limites máximode colunas e linhas\n",
    "pd.options.display.max_columns = 500\n",
    "pd.options.display.max_rows = 500\n",
    "\n",
    "# Settings para padronização de outputs\n",
    "sns.set()\n",
    "pd.options.display.max_columns = 500\n",
    "plt.style.use(\"fivethirtyeight\")\n",
    "plt.rcParams[\"figure.figsize\"] = [10, 5]\n",
    "%load_ext nb_black"
   ]
  },
  {
   "cell_type": "markdown",
   "id": "12ab770a",
   "metadata": {},
   "source": [
    "# Analisando os dados"
   ]
  },
  {
   "cell_type": "code",
   "execution_count": 2,
   "id": "bb3665e2",
   "metadata": {
    "scrolled": true
   },
   "outputs": [
    {
     "data": {
      "application/javascript": [
       "\n",
       "            setTimeout(function() {\n",
       "                var nbb_cell_id = 2;\n",
       "                var nbb_unformatted_code = \"# Carregando o dataset\\nbarragens = pd.read_csv(\\n    \\\"database_versao_LatLongDecimal_fonteANM_23_01_2019.csv\\\",\\n    sep=\\\",\\\",\\n    decimal=\\\",\\\",\\n    dtype={\\n        \\\"LATITUDE\\\": \\\"string\\\",\\n        \\\"LONGITUDE\\\": \\\"string\\\",\\n        \\\"NOME_BARRAGEM_MINERACAO\\\": \\\"string\\\",\\n        \\\"CPF_CNPJ\\\": \\\"string\\\",\\n    },\\n)\";\n",
       "                var nbb_formatted_code = \"# Carregando o dataset\\nbarragens = pd.read_csv(\\n    \\\"database_versao_LatLongDecimal_fonteANM_23_01_2019.csv\\\",\\n    sep=\\\",\\\",\\n    decimal=\\\",\\\",\\n    dtype={\\n        \\\"LATITUDE\\\": \\\"string\\\",\\n        \\\"LONGITUDE\\\": \\\"string\\\",\\n        \\\"NOME_BARRAGEM_MINERACAO\\\": \\\"string\\\",\\n        \\\"CPF_CNPJ\\\": \\\"string\\\",\\n    },\\n)\";\n",
       "                var nbb_cells = Jupyter.notebook.get_cells();\n",
       "                for (var i = 0; i < nbb_cells.length; ++i) {\n",
       "                    if (nbb_cells[i].input_prompt_number == nbb_cell_id) {\n",
       "                        if (nbb_cells[i].get_text() == nbb_unformatted_code) {\n",
       "                             nbb_cells[i].set_text(nbb_formatted_code);\n",
       "                        }\n",
       "                        break;\n",
       "                    }\n",
       "                }\n",
       "            }, 500);\n",
       "            "
      ],
      "text/plain": [
       "<IPython.core.display.Javascript object>"
      ]
     },
     "metadata": {},
     "output_type": "display_data"
    }
   ],
   "source": [
    "# Carregando o dataset\n",
    "barragens = pd.read_csv(\n",
    "    \"database_versao_LatLongDecimal_fonteANM_23_01_2019.csv\",\n",
    "    sep=\",\",\n",
    "    decimal=\",\",\n",
    "    dtype={\n",
    "        \"LATITUDE\": \"string\",\n",
    "        \"LONGITUDE\": \"string\",\n",
    "        \"NOME_BARRAGEM_MINERACAO\": \"string\",\n",
    "        \"CPF_CNPJ\": \"string\",\n",
    "    },\n",
    ")"
   ]
  },
  {
   "cell_type": "code",
   "execution_count": 3,
   "id": "11390c52",
   "metadata": {},
   "outputs": [
    {
     "data": {
      "text/html": [
       "<div>\n",
       "<style scoped>\n",
       "    .dataframe tbody tr th:only-of-type {\n",
       "        vertical-align: middle;\n",
       "    }\n",
       "\n",
       "    .dataframe tbody tr th {\n",
       "        vertical-align: top;\n",
       "    }\n",
       "\n",
       "    .dataframe thead th {\n",
       "        text-align: right;\n",
       "    }\n",
       "</style>\n",
       "<table border=\"1\" class=\"dataframe\">\n",
       "  <thead>\n",
       "    <tr style=\"text-align: right;\">\n",
       "      <th></th>\n",
       "      <th>NOME_BARRAGEM_MINERACAO</th>\n",
       "      <th>NOME_DO_EMPREENDEDOR</th>\n",
       "      <th>CPF_CNPJ</th>\n",
       "      <th>POSICIONAMENTO</th>\n",
       "      <th>UF</th>\n",
       "      <th>MUNICIPIO</th>\n",
       "      <th>MINERIO_PRINCIPAL</th>\n",
       "      <th>ALTURA_ATUAL_metros</th>\n",
       "      <th>VOLUME_ATUAL_m3</th>\n",
       "      <th>CATEGORIA_DE_RISCO</th>\n",
       "      <th>DANO_POTENCIAL_ASSOCIADO</th>\n",
       "      <th>CLASSE</th>\n",
       "      <th>INSERIDA_NA_PNSB</th>\n",
       "      <th>LATITUDE</th>\n",
       "      <th>LONGITUDE</th>\n",
       "    </tr>\n",
       "  </thead>\n",
       "  <tbody>\n",
       "    <tr>\n",
       "      <th>0</th>\n",
       "      <td>0-1</td>\n",
       "      <td>Mineração Taboca S.a.</td>\n",
       "      <td>34.019.992/0001-10</td>\n",
       "      <td>Sul do Equador</td>\n",
       "      <td>AM</td>\n",
       "      <td>PRESIDENTE FIGUEIREDO</td>\n",
       "      <td>Minério de Estanho Primário</td>\n",
       "      <td>22.00</td>\n",
       "      <td>27,700,000.00</td>\n",
       "      <td>Baixa</td>\n",
       "      <td>Média</td>\n",
       "      <td>C</td>\n",
       "      <td>Sim</td>\n",
       "      <td>0.733361111111111</td>\n",
       "      <td>-60.1383888888889</td>\n",
       "    </tr>\n",
       "    <tr>\n",
       "      <th>1</th>\n",
       "      <td>103 (Cruz)</td>\n",
       "      <td>Mineração Taboca S.a.</td>\n",
       "      <td>34.019.992/0001-10</td>\n",
       "      <td>Sul do Equador</td>\n",
       "      <td>AM</td>\n",
       "      <td>PRESIDENTE FIGUEIREDO</td>\n",
       "      <td>Minério de Estanho Primário</td>\n",
       "      <td>10.30</td>\n",
       "      <td>924,000.00</td>\n",
       "      <td>Baixa</td>\n",
       "      <td>Média</td>\n",
       "      <td>C</td>\n",
       "      <td>Sim</td>\n",
       "      <td>0.785722222222222</td>\n",
       "      <td>-60.1419166666667</td>\n",
       "    </tr>\n",
       "    <tr>\n",
       "      <th>2</th>\n",
       "      <td>111 (Índio)</td>\n",
       "      <td>Mineração Taboca S.a.</td>\n",
       "      <td>34.019.992/0001-10</td>\n",
       "      <td>Sul do Equador</td>\n",
       "      <td>AM</td>\n",
       "      <td>PRESIDENTE FIGUEIREDO</td>\n",
       "      <td>Minério de Estanho Primário</td>\n",
       "      <td>5.00</td>\n",
       "      <td>48,873.00</td>\n",
       "      <td>Baixa</td>\n",
       "      <td>Média</td>\n",
       "      <td>C</td>\n",
       "      <td>Sim</td>\n",
       "      <td>0.789666666666667</td>\n",
       "      <td>-60.1442777777778</td>\n",
       "    </tr>\n",
       "    <tr>\n",
       "      <th>3</th>\n",
       "      <td>158 (A-1)</td>\n",
       "      <td>Mineração Taboca S.a.</td>\n",
       "      <td>34.019.992/0001-10</td>\n",
       "      <td>Sul do Equador</td>\n",
       "      <td>AM</td>\n",
       "      <td>PRESIDENTE FIGUEIREDO</td>\n",
       "      <td>Minério de Estanho Primário</td>\n",
       "      <td>30.00</td>\n",
       "      <td>53,380,000.00</td>\n",
       "      <td>Baixa</td>\n",
       "      <td>Alta</td>\n",
       "      <td>B</td>\n",
       "      <td>Sim</td>\n",
       "      <td>0.738027777777778</td>\n",
       "      <td>-60.0789166666667</td>\n",
       "    </tr>\n",
       "    <tr>\n",
       "      <th>4</th>\n",
       "      <td>161 (A-2)</td>\n",
       "      <td>Mineração Taboca S.a.</td>\n",
       "      <td>34.019.992/0001-10</td>\n",
       "      <td>Sul do Equador</td>\n",
       "      <td>AM</td>\n",
       "      <td>PRESIDENTE FIGUEIREDO</td>\n",
       "      <td>Minério de Estanho Primário</td>\n",
       "      <td>22.00</td>\n",
       "      <td>1,018,054.00</td>\n",
       "      <td>Baixa</td>\n",
       "      <td>Média</td>\n",
       "      <td>C</td>\n",
       "      <td>Sim</td>\n",
       "      <td>0.732286944444444</td>\n",
       "      <td>-60.0689988888889</td>\n",
       "    </tr>\n",
       "  </tbody>\n",
       "</table>\n",
       "</div>"
      ],
      "text/plain": [
       "  NOME_BARRAGEM_MINERACAO   NOME_DO_EMPREENDEDOR            CPF_CNPJ  \\\n",
       "0                     0-1  Mineração Taboca S.a.  34.019.992/0001-10   \n",
       "1              103 (Cruz)  Mineração Taboca S.a.  34.019.992/0001-10   \n",
       "2             111 (Índio)  Mineração Taboca S.a.  34.019.992/0001-10   \n",
       "3               158 (A-1)  Mineração Taboca S.a.  34.019.992/0001-10   \n",
       "4               161 (A-2)  Mineração Taboca S.a.  34.019.992/0001-10   \n",
       "\n",
       "   POSICIONAMENTO  UF              MUNICIPIO            MINERIO_PRINCIPAL  \\\n",
       "0  Sul do Equador  AM  PRESIDENTE FIGUEIREDO  Minério de Estanho Primário   \n",
       "1  Sul do Equador  AM  PRESIDENTE FIGUEIREDO  Minério de Estanho Primário   \n",
       "2  Sul do Equador  AM  PRESIDENTE FIGUEIREDO  Minério de Estanho Primário   \n",
       "3  Sul do Equador  AM  PRESIDENTE FIGUEIREDO  Minério de Estanho Primário   \n",
       "4  Sul do Equador  AM  PRESIDENTE FIGUEIREDO  Minério de Estanho Primário   \n",
       "\n",
       "  ALTURA_ATUAL_metros VOLUME_ATUAL_m3 CATEGORIA_DE_RISCO  \\\n",
       "0               22.00   27,700,000.00              Baixa   \n",
       "1               10.30      924,000.00              Baixa   \n",
       "2                5.00       48,873.00              Baixa   \n",
       "3               30.00   53,380,000.00              Baixa   \n",
       "4               22.00    1,018,054.00              Baixa   \n",
       "\n",
       "  DANO_POTENCIAL_ASSOCIADO CLASSE INSERIDA_NA_PNSB           LATITUDE  \\\n",
       "0                    Média      C              Sim  0.733361111111111   \n",
       "1                    Média      C              Sim  0.785722222222222   \n",
       "2                    Média      C              Sim  0.789666666666667   \n",
       "3                     Alta      B              Sim  0.738027777777778   \n",
       "4                    Média      C              Sim  0.732286944444444   \n",
       "\n",
       "           LONGITUDE  \n",
       "0  -60.1383888888889  \n",
       "1  -60.1419166666667  \n",
       "2  -60.1442777777778  \n",
       "3  -60.0789166666667  \n",
       "4  -60.0689988888889  "
      ]
     },
     "execution_count": 3,
     "metadata": {},
     "output_type": "execute_result"
    },
    {
     "data": {
      "application/javascript": [
       "\n",
       "            setTimeout(function() {\n",
       "                var nbb_cell_id = 3;\n",
       "                var nbb_unformatted_code = \"# Espiando o dataset\\nbarragens.head(5)\";\n",
       "                var nbb_formatted_code = \"# Espiando o dataset\\nbarragens.head(5)\";\n",
       "                var nbb_cells = Jupyter.notebook.get_cells();\n",
       "                for (var i = 0; i < nbb_cells.length; ++i) {\n",
       "                    if (nbb_cells[i].input_prompt_number == nbb_cell_id) {\n",
       "                        if (nbb_cells[i].get_text() == nbb_unformatted_code) {\n",
       "                             nbb_cells[i].set_text(nbb_formatted_code);\n",
       "                        }\n",
       "                        break;\n",
       "                    }\n",
       "                }\n",
       "            }, 500);\n",
       "            "
      ],
      "text/plain": [
       "<IPython.core.display.Javascript object>"
      ]
     },
     "metadata": {},
     "output_type": "display_data"
    }
   ],
   "source": [
    "# Espiando o dataset\n",
    "barragens.head(5)"
   ]
  },
  {
   "cell_type": "code",
   "execution_count": 4,
   "id": "abfd54e3",
   "metadata": {},
   "outputs": [
    {
     "data": {
      "text/plain": [
       "(714, 15)"
      ]
     },
     "execution_count": 4,
     "metadata": {},
     "output_type": "execute_result"
    },
    {
     "data": {
      "application/javascript": [
       "\n",
       "            setTimeout(function() {\n",
       "                var nbb_cell_id = 4;\n",
       "                var nbb_unformatted_code = \"# Vendo o formato do dataset\\nbarragens.shape\";\n",
       "                var nbb_formatted_code = \"# Vendo o formato do dataset\\nbarragens.shape\";\n",
       "                var nbb_cells = Jupyter.notebook.get_cells();\n",
       "                for (var i = 0; i < nbb_cells.length; ++i) {\n",
       "                    if (nbb_cells[i].input_prompt_number == nbb_cell_id) {\n",
       "                        if (nbb_cells[i].get_text() == nbb_unformatted_code) {\n",
       "                             nbb_cells[i].set_text(nbb_formatted_code);\n",
       "                        }\n",
       "                        break;\n",
       "                    }\n",
       "                }\n",
       "            }, 500);\n",
       "            "
      ],
      "text/plain": [
       "<IPython.core.display.Javascript object>"
      ]
     },
     "metadata": {},
     "output_type": "display_data"
    }
   ],
   "source": [
    "# Vendo o formato do dataset\n",
    "barragens.shape"
   ]
  },
  {
   "cell_type": "code",
   "execution_count": 5,
   "id": "bdf24bf8",
   "metadata": {},
   "outputs": [
    {
     "name": "stdout",
     "output_type": "stream",
     "text": [
      "<class 'pandas.core.frame.DataFrame'>\n",
      "RangeIndex: 714 entries, 0 to 713\n",
      "Data columns (total 15 columns):\n",
      " #   Column                    Non-Null Count  Dtype \n",
      "---  ------                    --------------  ----- \n",
      " 0   NOME_BARRAGEM_MINERACAO   714 non-null    string\n",
      " 1   NOME_DO_EMPREENDEDOR      714 non-null    object\n",
      " 2   CPF_CNPJ                  714 non-null    string\n",
      " 3   POSICIONAMENTO            714 non-null    object\n",
      " 4   UF                        714 non-null    object\n",
      " 5   MUNICIPIO                 714 non-null    object\n",
      " 6   MINERIO_PRINCIPAL         714 non-null    object\n",
      " 7   ALTURA_ATUAL_metros       714 non-null    object\n",
      " 8   VOLUME_ATUAL_m3           714 non-null    object\n",
      " 9   CATEGORIA_DE_RISCO        390 non-null    object\n",
      " 10  DANO_POTENCIAL_ASSOCIADO  390 non-null    object\n",
      " 11  CLASSE                    390 non-null    object\n",
      " 12  INSERIDA_NA_PNSB          714 non-null    object\n",
      " 13  LATITUDE                  714 non-null    string\n",
      " 14  LONGITUDE                 714 non-null    string\n",
      "dtypes: object(11), string(4)\n",
      "memory usage: 83.8+ KB\n"
     ]
    },
    {
     "data": {
      "application/javascript": [
       "\n",
       "            setTimeout(function() {\n",
       "                var nbb_cell_id = 5;\n",
       "                var nbb_unformatted_code = \"# Verificando informa\\u00e7\\u00f5es\\nbarragens.info()\";\n",
       "                var nbb_formatted_code = \"# Verificando informa\\u00e7\\u00f5es\\nbarragens.info()\";\n",
       "                var nbb_cells = Jupyter.notebook.get_cells();\n",
       "                for (var i = 0; i < nbb_cells.length; ++i) {\n",
       "                    if (nbb_cells[i].input_prompt_number == nbb_cell_id) {\n",
       "                        if (nbb_cells[i].get_text() == nbb_unformatted_code) {\n",
       "                             nbb_cells[i].set_text(nbb_formatted_code);\n",
       "                        }\n",
       "                        break;\n",
       "                    }\n",
       "                }\n",
       "            }, 500);\n",
       "            "
      ],
      "text/plain": [
       "<IPython.core.display.Javascript object>"
      ]
     },
     "metadata": {},
     "output_type": "display_data"
    }
   ],
   "source": [
    "# Verificando informações\n",
    "barragens.info()"
   ]
  },
  {
   "cell_type": "code",
   "execution_count": 6,
   "id": "dd4e6eaa",
   "metadata": {},
   "outputs": [
    {
     "data": {
      "application/javascript": [
       "\n",
       "            setTimeout(function() {\n",
       "                var nbb_cell_id = 6;\n",
       "                var nbb_unformatted_code = \"# Para seguir a an\\u00e1lise, precisamos converter os campos de altura e volume para o formato num\\u00e9rico\\ncolumns = [\\\"ALTURA_ATUAL_metros\\\", \\\"VOLUME_ATUAL_m3\\\"]\\n\\nfor column in columns:\\n    # Trocamos v\\u00edrgula por espa\\u00e7o vazio\\n    barragens[f\\\"{column}\\\"] = barragens[f\\\"{column}\\\"].str.replace(\\\",\\\", \\\"\\\")\\n    # Trocamos os hif\\u00e9ns por nulos\\n    barragens[f\\\"{column}\\\"] = barragens[f\\\"{column}\\\"].replace(\\\"-\\\", np.nan)\\n    # Transformando em num\\u00e9rico\\n    barragens[f\\\"{column}\\\"] = pd.to_numeric(barragens[f\\\"{column}\\\"])\";\n",
       "                var nbb_formatted_code = \"# Para seguir a an\\u00e1lise, precisamos converter os campos de altura e volume para o formato num\\u00e9rico\\ncolumns = [\\\"ALTURA_ATUAL_metros\\\", \\\"VOLUME_ATUAL_m3\\\"]\\n\\nfor column in columns:\\n    # Trocamos v\\u00edrgula por espa\\u00e7o vazio\\n    barragens[f\\\"{column}\\\"] = barragens[f\\\"{column}\\\"].str.replace(\\\",\\\", \\\"\\\")\\n    # Trocamos os hif\\u00e9ns por nulos\\n    barragens[f\\\"{column}\\\"] = barragens[f\\\"{column}\\\"].replace(\\\"-\\\", np.nan)\\n    # Transformando em num\\u00e9rico\\n    barragens[f\\\"{column}\\\"] = pd.to_numeric(barragens[f\\\"{column}\\\"])\";\n",
       "                var nbb_cells = Jupyter.notebook.get_cells();\n",
       "                for (var i = 0; i < nbb_cells.length; ++i) {\n",
       "                    if (nbb_cells[i].input_prompt_number == nbb_cell_id) {\n",
       "                        if (nbb_cells[i].get_text() == nbb_unformatted_code) {\n",
       "                             nbb_cells[i].set_text(nbb_formatted_code);\n",
       "                        }\n",
       "                        break;\n",
       "                    }\n",
       "                }\n",
       "            }, 500);\n",
       "            "
      ],
      "text/plain": [
       "<IPython.core.display.Javascript object>"
      ]
     },
     "metadata": {},
     "output_type": "display_data"
    }
   ],
   "source": [
    "# Para seguir a análise, precisamos converter os campos de altura e volume para o formato numérico\n",
    "columns = [\"ALTURA_ATUAL_metros\", \"VOLUME_ATUAL_m3\"]\n",
    "\n",
    "for column in columns:\n",
    "    # Trocamos vírgula por espaço vazio\n",
    "    barragens[f\"{column}\"] = barragens[f\"{column}\"].str.replace(\",\", \"\")\n",
    "    # Trocamos os hiféns por nulos\n",
    "    barragens[f\"{column}\"] = barragens[f\"{column}\"].replace(\"-\", np.nan)\n",
    "    # Transformando em numérico\n",
    "    barragens[f\"{column}\"] = pd.to_numeric(barragens[f\"{column}\"])"
   ]
  },
  {
   "cell_type": "code",
   "execution_count": 7,
   "id": "579a051d",
   "metadata": {},
   "outputs": [
    {
     "name": "stdout",
     "output_type": "stream",
     "text": [
      "<class 'pandas.core.frame.DataFrame'>\n",
      "RangeIndex: 714 entries, 0 to 713\n",
      "Data columns (total 15 columns):\n",
      " #   Column                    Non-Null Count  Dtype  \n",
      "---  ------                    --------------  -----  \n",
      " 0   NOME_BARRAGEM_MINERACAO   714 non-null    string \n",
      " 1   NOME_DO_EMPREENDEDOR      714 non-null    object \n",
      " 2   CPF_CNPJ                  714 non-null    string \n",
      " 3   POSICIONAMENTO            714 non-null    object \n",
      " 4   UF                        714 non-null    object \n",
      " 5   MUNICIPIO                 714 non-null    object \n",
      " 6   MINERIO_PRINCIPAL         714 non-null    object \n",
      " 7   ALTURA_ATUAL_metros       697 non-null    float64\n",
      " 8   VOLUME_ATUAL_m3           707 non-null    float64\n",
      " 9   CATEGORIA_DE_RISCO        390 non-null    object \n",
      " 10  DANO_POTENCIAL_ASSOCIADO  390 non-null    object \n",
      " 11  CLASSE                    390 non-null    object \n",
      " 12  INSERIDA_NA_PNSB          714 non-null    object \n",
      " 13  LATITUDE                  714 non-null    string \n",
      " 14  LONGITUDE                 714 non-null    string \n",
      "dtypes: float64(2), object(9), string(4)\n",
      "memory usage: 83.8+ KB\n"
     ]
    },
    {
     "data": {
      "application/javascript": [
       "\n",
       "            setTimeout(function() {\n",
       "                var nbb_cell_id = 7;\n",
       "                var nbb_unformatted_code = \"# Verificando resultado das informa\\u00e7\\u00f5es\\nbarragens.info()\";\n",
       "                var nbb_formatted_code = \"# Verificando resultado das informa\\u00e7\\u00f5es\\nbarragens.info()\";\n",
       "                var nbb_cells = Jupyter.notebook.get_cells();\n",
       "                for (var i = 0; i < nbb_cells.length; ++i) {\n",
       "                    if (nbb_cells[i].input_prompt_number == nbb_cell_id) {\n",
       "                        if (nbb_cells[i].get_text() == nbb_unformatted_code) {\n",
       "                             nbb_cells[i].set_text(nbb_formatted_code);\n",
       "                        }\n",
       "                        break;\n",
       "                    }\n",
       "                }\n",
       "            }, 500);\n",
       "            "
      ],
      "text/plain": [
       "<IPython.core.display.Javascript object>"
      ]
     },
     "metadata": {},
     "output_type": "display_data"
    }
   ],
   "source": [
    "# Verificando resultado das informações\n",
    "barragens.info()"
   ]
  },
  {
   "cell_type": "code",
   "execution_count": 8,
   "id": "564f60ab",
   "metadata": {},
   "outputs": [
    {
     "data": {
      "text/plain": [
       "Text(0.5, 1.0, 'Dataset ANM de barragens: Análise de valores ausentes')"
      ]
     },
     "execution_count": 8,
     "metadata": {},
     "output_type": "execute_result"
    },
    {
     "data": {
      "image/png": "[encoded data removed]",
      "text/plain": [
       "<Figure size 864x432 with 1 Axes>"
      ]
     },
     "metadata": {},
     "output_type": "display_data"
    },
    {
     "data": {
      "application/javascript": [
       "\n",
       "            setTimeout(function() {\n",
       "                var nbb_cell_id = 8;\n",
       "                var nbb_unformatted_code = \"# Percentual de missing no dataset\\n# Pega as colunas que tem missing\\nna_cols = [col for col in barragens if (barragens[col].isna().sum() > 0)]\\n\\nax = (\\n    barragens[na_cols]\\n    .isna()\\n    .mean()  # Ao realizar a m\\u00e9dia, neste caso, fazemos a quantidade de valores ausentes / pelo total, no caso, a m\\u00e9dia\\n    .sort_values(ascending=False)  # Ordena de forma decrescente\\n    .mul(100)  # coloca em centenas\\n    .plot(kind=\\\"barh\\\", figsize=(12, 6))  # Plota o gr\\u00e1fico horizontal\\n)\\n\\nax.set_xlabel(\\\"% missing\\\")  # T\\u00edtulo do eixo x\\nax.set_title(\\n    \\\"Dataset ANM de barragens: An\\u00e1lise de valores ausentes\\\"\\n)  # T\\u00edtulo do gr\\u00e1fico\";\n",
       "                var nbb_formatted_code = \"# Percentual de missing no dataset\\n# Pega as colunas que tem missing\\nna_cols = [col for col in barragens if (barragens[col].isna().sum() > 0)]\\n\\nax = (\\n    barragens[na_cols]\\n    .isna()\\n    .mean()  # Ao realizar a m\\u00e9dia, neste caso, fazemos a quantidade de valores ausentes / pelo total, no caso, a m\\u00e9dia\\n    .sort_values(ascending=False)  # Ordena de forma decrescente\\n    .mul(100)  # coloca em centenas\\n    .plot(kind=\\\"barh\\\", figsize=(12, 6))  # Plota o gr\\u00e1fico horizontal\\n)\\n\\nax.set_xlabel(\\\"% missing\\\")  # T\\u00edtulo do eixo x\\nax.set_title(\\n    \\\"Dataset ANM de barragens: An\\u00e1lise de valores ausentes\\\"\\n)  # T\\u00edtulo do gr\\u00e1fico\";\n",
       "                var nbb_cells = Jupyter.notebook.get_cells();\n",
       "                for (var i = 0; i < nbb_cells.length; ++i) {\n",
       "                    if (nbb_cells[i].input_prompt_number == nbb_cell_id) {\n",
       "                        if (nbb_cells[i].get_text() == nbb_unformatted_code) {\n",
       "                             nbb_cells[i].set_text(nbb_formatted_code);\n",
       "                        }\n",
       "                        break;\n",
       "                    }\n",
       "                }\n",
       "            }, 500);\n",
       "            "
      ],
      "text/plain": [
       "<IPython.core.display.Javascript object>"
      ]
     },
     "metadata": {},
     "output_type": "display_data"
    }
   ],
   "source": [
    "# Percentual de missing no dataset\n",
    "# Pega as colunas que tem missing\n",
    "na_cols = [col for col in barragens if (barragens[col].isna().sum() > 0)]\n",
    "\n",
    "ax = (\n",
    "    barragens[na_cols]\n",
    "    .isna()\n",
    "    .mean()  # Ao realizar a média, neste caso, fazemos a quantidade de valores ausentes / pelo total, no caso, a média\n",
    "    .sort_values(ascending=False)  # Ordena de forma decrescente\n",
    "    .mul(100)  # coloca em centenas\n",
    "    .plot(kind=\"barh\", figsize=(12, 6))  # Plota o gráfico horizontal\n",
    ")\n",
    "\n",
    "ax.set_xlabel(\"% missing\")  # Título do eixo x\n",
    "ax.set_title(\n",
    "    \"Dataset ANM de barragens: Análise de valores ausentes\"\n",
    ")  # Título do gráfico"
   ]
  },
  {
   "cell_type": "code",
   "execution_count": 9,
   "id": "e79102cc",
   "metadata": {},
   "outputs": [
    {
     "data": {
      "text/html": [
       "<div>\n",
       "<style scoped>\n",
       "    .dataframe tbody tr th:only-of-type {\n",
       "        vertical-align: middle;\n",
       "    }\n",
       "\n",
       "    .dataframe tbody tr th {\n",
       "        vertical-align: top;\n",
       "    }\n",
       "\n",
       "    .dataframe thead th {\n",
       "        text-align: right;\n",
       "    }\n",
       "</style>\n",
       "<table border=\"1\" class=\"dataframe\">\n",
       "  <thead>\n",
       "    <tr style=\"text-align: right;\">\n",
       "      <th></th>\n",
       "      <th>NOME_BARRAGEM_MINERACAO</th>\n",
       "      <th>NOME_DO_EMPREENDEDOR</th>\n",
       "      <th>CPF_CNPJ</th>\n",
       "      <th>POSICIONAMENTO</th>\n",
       "      <th>UF</th>\n",
       "      <th>MUNICIPIO</th>\n",
       "      <th>MINERIO_PRINCIPAL</th>\n",
       "      <th>ALTURA_ATUAL_metros</th>\n",
       "      <th>VOLUME_ATUAL_m3</th>\n",
       "      <th>CATEGORIA_DE_RISCO</th>\n",
       "      <th>DANO_POTENCIAL_ASSOCIADO</th>\n",
       "      <th>CLASSE</th>\n",
       "      <th>INSERIDA_NA_PNSB</th>\n",
       "      <th>LATITUDE</th>\n",
       "      <th>LONGITUDE</th>\n",
       "    </tr>\n",
       "  </thead>\n",
       "  <tbody>\n",
       "    <tr>\n",
       "      <th>390</th>\n",
       "      <td>22</td>\n",
       "      <td>Mineração Taboca S.a.</td>\n",
       "      <td>34.019.992/0001-10</td>\n",
       "      <td>Sul do Equador</td>\n",
       "      <td>AM</td>\n",
       "      <td>PRESIDENTE FIGUEIREDO</td>\n",
       "      <td>Minério de Estanho Primário</td>\n",
       "      <td>6.0</td>\n",
       "      <td>56519.00</td>\n",
       "      <td>NaN</td>\n",
       "      <td>NaN</td>\n",
       "      <td>NaN</td>\n",
       "      <td>Não</td>\n",
       "      <td>0.738638888888889</td>\n",
       "      <td>-60.1673888888889</td>\n",
       "    </tr>\n",
       "    <tr>\n",
       "      <th>391</th>\n",
       "      <td>42</td>\n",
       "      <td>Mineração Taboca S.a.</td>\n",
       "      <td>34.019.992/0001-10</td>\n",
       "      <td>Sul do Equador</td>\n",
       "      <td>AM</td>\n",
       "      <td>PRESIDENTE FIGUEIREDO</td>\n",
       "      <td>Minério de Estanho Primário</td>\n",
       "      <td>4.9</td>\n",
       "      <td>130979.00</td>\n",
       "      <td>NaN</td>\n",
       "      <td>NaN</td>\n",
       "      <td>NaN</td>\n",
       "      <td>Não</td>\n",
       "      <td>0.723527777777778</td>\n",
       "      <td>-60.1967222222222</td>\n",
       "    </tr>\n",
       "    <tr>\n",
       "      <th>392</th>\n",
       "      <td>69</td>\n",
       "      <td>Mineração Taboca S.a.</td>\n",
       "      <td>34.019.992/0001-10</td>\n",
       "      <td>Sul do Equador</td>\n",
       "      <td>AM</td>\n",
       "      <td>PRESIDENTE FIGUEIREDO</td>\n",
       "      <td>Minério de Estanho Primário</td>\n",
       "      <td>5.0</td>\n",
       "      <td>84941.00</td>\n",
       "      <td>NaN</td>\n",
       "      <td>NaN</td>\n",
       "      <td>NaN</td>\n",
       "      <td>Não</td>\n",
       "      <td>0.743194444444444</td>\n",
       "      <td>-60.2014166666667</td>\n",
       "    </tr>\n",
       "    <tr>\n",
       "      <th>393</th>\n",
       "      <td>189</td>\n",
       "      <td>Mineração Taboca S.a.</td>\n",
       "      <td>34.019.992/0001-10</td>\n",
       "      <td>Sul do Equador</td>\n",
       "      <td>AM</td>\n",
       "      <td>PRESIDENTE FIGUEIREDO</td>\n",
       "      <td>Minério de Estanho Primário</td>\n",
       "      <td>5.0</td>\n",
       "      <td>209969.00</td>\n",
       "      <td>NaN</td>\n",
       "      <td>NaN</td>\n",
       "      <td>NaN</td>\n",
       "      <td>Não</td>\n",
       "      <td>0.789555555555556</td>\n",
       "      <td>-60.0130277777778</td>\n",
       "    </tr>\n",
       "    <tr>\n",
       "      <th>394</th>\n",
       "      <td>1-30</td>\n",
       "      <td>Mineração Taboca S.a.</td>\n",
       "      <td>34.019.992/0001-10</td>\n",
       "      <td>Sul do Equador</td>\n",
       "      <td>AM</td>\n",
       "      <td>PRESIDENTE FIGUEIREDO</td>\n",
       "      <td>Minério de Estanho Primário</td>\n",
       "      <td>8.0</td>\n",
       "      <td>1320.09</td>\n",
       "      <td>NaN</td>\n",
       "      <td>NaN</td>\n",
       "      <td>NaN</td>\n",
       "      <td>Não</td>\n",
       "      <td>0.707111111111111</td>\n",
       "      <td>-60.1925277777778</td>\n",
       "    </tr>\n",
       "  </tbody>\n",
       "</table>\n",
       "</div>"
      ],
      "text/plain": [
       "    NOME_BARRAGEM_MINERACAO   NOME_DO_EMPREENDEDOR            CPF_CNPJ  \\\n",
       "390                      22  Mineração Taboca S.a.  34.019.992/0001-10   \n",
       "391                      42  Mineração Taboca S.a.  34.019.992/0001-10   \n",
       "392                      69  Mineração Taboca S.a.  34.019.992/0001-10   \n",
       "393                     189  Mineração Taboca S.a.  34.019.992/0001-10   \n",
       "394                    1-30  Mineração Taboca S.a.  34.019.992/0001-10   \n",
       "\n",
       "     POSICIONAMENTO  UF              MUNICIPIO            MINERIO_PRINCIPAL  \\\n",
       "390  Sul do Equador  AM  PRESIDENTE FIGUEIREDO  Minério de Estanho Primário   \n",
       "391  Sul do Equador  AM  PRESIDENTE FIGUEIREDO  Minério de Estanho Primário   \n",
       "392  Sul do Equador  AM  PRESIDENTE FIGUEIREDO  Minério de Estanho Primário   \n",
       "393  Sul do Equador  AM  PRESIDENTE FIGUEIREDO  Minério de Estanho Primário   \n",
       "394  Sul do Equador  AM  PRESIDENTE FIGUEIREDO  Minério de Estanho Primário   \n",
       "\n",
       "     ALTURA_ATUAL_metros  VOLUME_ATUAL_m3 CATEGORIA_DE_RISCO  \\\n",
       "390                  6.0         56519.00                NaN   \n",
       "391                  4.9        130979.00                NaN   \n",
       "392                  5.0         84941.00                NaN   \n",
       "393                  5.0        209969.00                NaN   \n",
       "394                  8.0          1320.09                NaN   \n",
       "\n",
       "    DANO_POTENCIAL_ASSOCIADO CLASSE INSERIDA_NA_PNSB           LATITUDE  \\\n",
       "390                      NaN    NaN              Não  0.738638888888889   \n",
       "391                      NaN    NaN              Não  0.723527777777778   \n",
       "392                      NaN    NaN              Não  0.743194444444444   \n",
       "393                      NaN    NaN              Não  0.789555555555556   \n",
       "394                      NaN    NaN              Não  0.707111111111111   \n",
       "\n",
       "             LONGITUDE  \n",
       "390  -60.1673888888889  \n",
       "391  -60.1967222222222  \n",
       "392  -60.2014166666667  \n",
       "393  -60.0130277777778  \n",
       "394  -60.1925277777778  "
      ]
     },
     "execution_count": 9,
     "metadata": {},
     "output_type": "execute_result"
    },
    {
     "data": {
      "application/javascript": [
       "\n",
       "            setTimeout(function() {\n",
       "                var nbb_cell_id = 9;\n",
       "                var nbb_unformatted_code = \"# Verificando os nulos\\nbarragens[barragens[\\\"CATEGORIA_DE_RISCO\\\"].isna()].head()\";\n",
       "                var nbb_formatted_code = \"# Verificando os nulos\\nbarragens[barragens[\\\"CATEGORIA_DE_RISCO\\\"].isna()].head()\";\n",
       "                var nbb_cells = Jupyter.notebook.get_cells();\n",
       "                for (var i = 0; i < nbb_cells.length; ++i) {\n",
       "                    if (nbb_cells[i].input_prompt_number == nbb_cell_id) {\n",
       "                        if (nbb_cells[i].get_text() == nbb_unformatted_code) {\n",
       "                             nbb_cells[i].set_text(nbb_formatted_code);\n",
       "                        }\n",
       "                        break;\n",
       "                    }\n",
       "                }\n",
       "            }, 500);\n",
       "            "
      ],
      "text/plain": [
       "<IPython.core.display.Javascript object>"
      ]
     },
     "metadata": {},
     "output_type": "display_data"
    }
   ],
   "source": [
    "# Verificando os nulos\n",
    "barragens[barragens[\"CATEGORIA_DE_RISCO\"].isna()].head()"
   ]
  },
  {
   "cell_type": "markdown",
   "id": "5b780471",
   "metadata": {},
   "source": [
    "É preocupante notar que mais de 40% dos dados da categoria de risco estão ausentes, mas verificamos que estes casos não se enquadram na PNSB."
   ]
  },
  {
   "attachments": {
    "image.png": {
     "image/png": "[encoded data removed]"
    }
   },
   "cell_type": "markdown",
   "id": "025fa51e",
   "metadata": {},
   "source": [
    "Ao nos debruçarmos mais detidamente na PNSB, econtramos os critérios de enquadramento:\n",
    "\n",
    "![image.png](attachment:image.png)\n",
    "Fonte: [Ofício nº 86/2019/GAB - DG/DIRC](https://legis.senado.leg.br/sdleg-getter/documento?dm=7939404&ts=1554832639821&disposition=inline)"
   ]
  },
  {
   "cell_type": "code",
   "execution_count": 10,
   "id": "e28f59e5",
   "metadata": {},
   "outputs": [
    {
     "data": {
      "text/html": [
       "<div>\n",
       "<style scoped>\n",
       "    .dataframe tbody tr th:only-of-type {\n",
       "        vertical-align: middle;\n",
       "    }\n",
       "\n",
       "    .dataframe tbody tr th {\n",
       "        vertical-align: top;\n",
       "    }\n",
       "\n",
       "    .dataframe thead th {\n",
       "        text-align: right;\n",
       "    }\n",
       "</style>\n",
       "<table border=\"1\" class=\"dataframe\">\n",
       "  <thead>\n",
       "    <tr style=\"text-align: right;\">\n",
       "      <th></th>\n",
       "      <th>ALTURA_ATUAL_metros</th>\n",
       "      <th>VOLUME_ATUAL_m3</th>\n",
       "    </tr>\n",
       "  </thead>\n",
       "  <tbody>\n",
       "    <tr>\n",
       "      <th>count</th>\n",
       "      <td>307.000000</td>\n",
       "      <td>3.170000e+02</td>\n",
       "    </tr>\n",
       "    <tr>\n",
       "      <th>mean</th>\n",
       "      <td>6.961922</td>\n",
       "      <td>1.417104e+05</td>\n",
       "    </tr>\n",
       "    <tr>\n",
       "      <th>std</th>\n",
       "      <td>3.739758</td>\n",
       "      <td>2.813656e+05</td>\n",
       "    </tr>\n",
       "    <tr>\n",
       "      <th>min</th>\n",
       "      <td>1.000000</td>\n",
       "      <td>1.000000e-02</td>\n",
       "    </tr>\n",
       "    <tr>\n",
       "      <th>25%</th>\n",
       "      <td>4.000000</td>\n",
       "      <td>5.250000e+03</td>\n",
       "    </tr>\n",
       "    <tr>\n",
       "      <th>50%</th>\n",
       "      <td>6.200000</td>\n",
       "      <td>2.000000e+04</td>\n",
       "    </tr>\n",
       "    <tr>\n",
       "      <th>75%</th>\n",
       "      <td>10.000000</td>\n",
       "      <td>1.400590e+05</td>\n",
       "    </tr>\n",
       "    <tr>\n",
       "      <th>max</th>\n",
       "      <td>14.900000</td>\n",
       "      <td>1.965306e+06</td>\n",
       "    </tr>\n",
       "  </tbody>\n",
       "</table>\n",
       "</div>"
      ],
      "text/plain": [
       "       ALTURA_ATUAL_metros  VOLUME_ATUAL_m3\n",
       "count           307.000000     3.170000e+02\n",
       "mean              6.961922     1.417104e+05\n",
       "std               3.739758     2.813656e+05\n",
       "min               1.000000     1.000000e-02\n",
       "25%               4.000000     5.250000e+03\n",
       "50%               6.200000     2.000000e+04\n",
       "75%              10.000000     1.400590e+05\n",
       "max              14.900000     1.965306e+06"
      ]
     },
     "execution_count": 10,
     "metadata": {},
     "output_type": "execute_result"
    },
    {
     "data": {
      "application/javascript": [
       "\n",
       "            setTimeout(function() {\n",
       "                var nbb_cell_id = 10;\n",
       "                var nbb_unformatted_code = \"# Verificando informa\\u00e7\\u00f5es relevantes sobre missing values\\nbarragens[barragens[\\\"CATEGORIA_DE_RISCO\\\"].isna()].describe()\";\n",
       "                var nbb_formatted_code = \"# Verificando informa\\u00e7\\u00f5es relevantes sobre missing values\\nbarragens[barragens[\\\"CATEGORIA_DE_RISCO\\\"].isna()].describe()\";\n",
       "                var nbb_cells = Jupyter.notebook.get_cells();\n",
       "                for (var i = 0; i < nbb_cells.length; ++i) {\n",
       "                    if (nbb_cells[i].input_prompt_number == nbb_cell_id) {\n",
       "                        if (nbb_cells[i].get_text() == nbb_unformatted_code) {\n",
       "                             nbb_cells[i].set_text(nbb_formatted_code);\n",
       "                        }\n",
       "                        break;\n",
       "                    }\n",
       "                }\n",
       "            }, 500);\n",
       "            "
      ],
      "text/plain": [
       "<IPython.core.display.Javascript object>"
      ]
     },
     "metadata": {},
     "output_type": "display_data"
    }
   ],
   "source": [
    "# Verificando informações relevantes sobre missing values\n",
    "barragens[barragens[\"CATEGORIA_DE_RISCO\"].isna()].describe()"
   ]
  },
  {
   "cell_type": "markdown",
   "id": "e6a3ff6a",
   "metadata": {},
   "source": [
    "Verificamos que os dados com informações ausentes em relação a suas categorias de risco, não atendem aos critérios para se enquadrar na PNSB."
   ]
  },
  {
   "cell_type": "markdown",
   "id": "c9c99899",
   "metadata": {},
   "source": [
    "Vamos então transformar a coluna categoria de risco em uma nova coluna binária (0 ou 1) que representa a presença ou ausência desse valor, chamamos essa nova coluna de dummy."
   ]
  },
  {
   "cell_type": "code",
   "execution_count": 11,
   "id": "9db4fdc2",
   "metadata": {},
   "outputs": [
    {
     "data": {
      "application/javascript": [
       "\n",
       "            setTimeout(function() {\n",
       "                var nbb_cell_id = 11;\n",
       "                var nbb_unformatted_code = \"# Criando Dummy\\nbarragens[\\\"dummy_PNSB\\\"] = np.where(barragens[\\\"INSERIDA_NA_PNSB\\\"] == \\\"Sim\\\", 1, 0)\";\n",
       "                var nbb_formatted_code = \"# Criando Dummy\\nbarragens[\\\"dummy_PNSB\\\"] = np.where(barragens[\\\"INSERIDA_NA_PNSB\\\"] == \\\"Sim\\\", 1, 0)\";\n",
       "                var nbb_cells = Jupyter.notebook.get_cells();\n",
       "                for (var i = 0; i < nbb_cells.length; ++i) {\n",
       "                    if (nbb_cells[i].input_prompt_number == nbb_cell_id) {\n",
       "                        if (nbb_cells[i].get_text() == nbb_unformatted_code) {\n",
       "                             nbb_cells[i].set_text(nbb_formatted_code);\n",
       "                        }\n",
       "                        break;\n",
       "                    }\n",
       "                }\n",
       "            }, 500);\n",
       "            "
      ],
      "text/plain": [
       "<IPython.core.display.Javascript object>"
      ]
     },
     "metadata": {},
     "output_type": "display_data"
    }
   ],
   "source": [
    "# Criando Dummy\n",
    "barragens[\"dummy_PNSB\"] = np.where(barragens[\"INSERIDA_NA_PNSB\"] == \"Sim\", 1, 0)"
   ]
  },
  {
   "cell_type": "code",
   "execution_count": 12,
   "id": "04a8b777",
   "metadata": {},
   "outputs": [
    {
     "data": {
      "text/plain": [
       "1    0.546218\n",
       "0    0.453782\n",
       "Name: dummy_PNSB, dtype: float64"
      ]
     },
     "execution_count": 12,
     "metadata": {},
     "output_type": "execute_result"
    },
    {
     "data": {
      "application/javascript": [
       "\n",
       "            setTimeout(function() {\n",
       "                var nbb_cell_id = 12;\n",
       "                var nbb_unformatted_code = \"# Verificando os percentuais das categorias\\nbarragens[\\\"dummy_PNSB\\\"].value_counts(normalize=True)\";\n",
       "                var nbb_formatted_code = \"# Verificando os percentuais das categorias\\nbarragens[\\\"dummy_PNSB\\\"].value_counts(normalize=True)\";\n",
       "                var nbb_cells = Jupyter.notebook.get_cells();\n",
       "                for (var i = 0; i < nbb_cells.length; ++i) {\n",
       "                    if (nbb_cells[i].input_prompt_number == nbb_cell_id) {\n",
       "                        if (nbb_cells[i].get_text() == nbb_unformatted_code) {\n",
       "                             nbb_cells[i].set_text(nbb_formatted_code);\n",
       "                        }\n",
       "                        break;\n",
       "                    }\n",
       "                }\n",
       "            }, 500);\n",
       "            "
      ],
      "text/plain": [
       "<IPython.core.display.Javascript object>"
      ]
     },
     "metadata": {},
     "output_type": "display_data"
    }
   ],
   "source": [
    "# Verificando os percentuais das categorias\n",
    "barragens[\"dummy_PNSB\"].value_counts(normalize=True)"
   ]
  },
  {
   "cell_type": "markdown",
   "id": "80138bf4",
   "metadata": {},
   "source": [
    "Verificamos então que são justamente estes 45% que não possuem os dados sobre as categorias de risco."
   ]
  },
  {
   "cell_type": "markdown",
   "id": "47bb2142",
   "metadata": {},
   "source": [
    "Vamos verificar algumas informações sobre as barragens a partir do tipo de minério:"
   ]
  },
  {
   "cell_type": "code",
   "execution_count": 13,
   "id": "b483f029",
   "metadata": {},
   "outputs": [
    {
     "data": {
      "text/html": [
       "<div>\n",
       "<style scoped>\n",
       "    .dataframe tbody tr th:only-of-type {\n",
       "        vertical-align: middle;\n",
       "    }\n",
       "\n",
       "    .dataframe tbody tr th {\n",
       "        vertical-align: top;\n",
       "    }\n",
       "\n",
       "    .dataframe thead th {\n",
       "        text-align: right;\n",
       "    }\n",
       "</style>\n",
       "<table border=\"1\" class=\"dataframe\">\n",
       "  <thead>\n",
       "    <tr style=\"text-align: right;\">\n",
       "      <th></th>\n",
       "      <th>MINERIO_PRINCIPAL</th>\n",
       "      <th>sum_pnsb</th>\n",
       "      <th>max_altura</th>\n",
       "      <th>max_volume</th>\n",
       "      <th>media_altura</th>\n",
       "      <th>media_volume</th>\n",
       "    </tr>\n",
       "  </thead>\n",
       "  <tbody>\n",
       "    <tr>\n",
       "      <th>36</th>\n",
       "      <td>Minério de Ferro</td>\n",
       "      <td>132</td>\n",
       "      <td>100.0</td>\n",
       "      <td>226957900.0</td>\n",
       "      <td>24.316714</td>\n",
       "      <td>5.128368e+06</td>\n",
       "    </tr>\n",
       "    <tr>\n",
       "      <th>40</th>\n",
       "      <td>Minério de Ouro Primário</td>\n",
       "      <td>47</td>\n",
       "      <td>104.0</td>\n",
       "      <td>399058945.0</td>\n",
       "      <td>27.736909</td>\n",
       "      <td>1.222090e+07</td>\n",
       "    </tr>\n",
       "    <tr>\n",
       "      <th>8</th>\n",
       "      <td>Argila</td>\n",
       "      <td>32</td>\n",
       "      <td>25.0</td>\n",
       "      <td>11900000.0</td>\n",
       "      <td>11.648939</td>\n",
       "      <td>2.111966e+06</td>\n",
       "    </tr>\n",
       "    <tr>\n",
       "      <th>26</th>\n",
       "      <td>Fosfato</td>\n",
       "      <td>17</td>\n",
       "      <td>91.0</td>\n",
       "      <td>170000000.0</td>\n",
       "      <td>28.682105</td>\n",
       "      <td>1.613386e+07</td>\n",
       "    </tr>\n",
       "    <tr>\n",
       "      <th>21</th>\n",
       "      <td>Caulim</td>\n",
       "      <td>15</td>\n",
       "      <td>35.0</td>\n",
       "      <td>1755555.0</td>\n",
       "      <td>12.520000</td>\n",
       "      <td>5.216533e+05</td>\n",
       "    </tr>\n",
       "  </tbody>\n",
       "</table>\n",
       "</div>"
      ],
      "text/plain": [
       "           MINERIO_PRINCIPAL  sum_pnsb  max_altura   max_volume  media_altura  \\\n",
       "36          Minério de Ferro       132       100.0  226957900.0     24.316714   \n",
       "40  Minério de Ouro Primário        47       104.0  399058945.0     27.736909   \n",
       "8                     Argila        32        25.0   11900000.0     11.648939   \n",
       "26                   Fosfato        17        91.0  170000000.0     28.682105   \n",
       "21                    Caulim        15        35.0    1755555.0     12.520000   \n",
       "\n",
       "    media_volume  \n",
       "36  5.128368e+06  \n",
       "40  1.222090e+07  \n",
       "8   2.111966e+06  \n",
       "26  1.613386e+07  \n",
       "21  5.216533e+05  "
      ]
     },
     "execution_count": 13,
     "metadata": {},
     "output_type": "execute_result"
    },
    {
     "data": {
      "application/javascript": [
       "\n",
       "            setTimeout(function() {\n",
       "                var nbb_cell_id = 13;\n",
       "                var nbb_unformatted_code = \"# Resumo por min\\u00e9rio\\nresumo = (\\n    barragens.groupby([\\\"MINERIO_PRINCIPAL\\\"])  # Agrupa a partir desta coluna\\n    .agg(  # Fun\\u00e7\\u00e3o que cria c\\u00e1lculos a partir do agrupamento\\n        sum_pnsb=(\\\"dummy_PNSB\\\", \\\"sum\\\"),\\n        max_altura=(\\\"ALTURA_ATUAL_metros\\\", \\\"max\\\"),\\n        max_volume=(\\\"VOLUME_ATUAL_m3\\\", \\\"max\\\"),\\n        media_altura=(\\\"ALTURA_ATUAL_metros\\\", \\\"mean\\\"),\\n        media_volume=(\\\"VOLUME_ATUAL_m3\\\", \\\"mean\\\"),\\n    )\\n    .reset_index()\\n)\\n\\n# Mostrando a tabela\\nresumo.sort_values(by=\\\"sum_pnsb\\\", ascending=False).head()\";\n",
       "                var nbb_formatted_code = \"# Resumo por min\\u00e9rio\\nresumo = (\\n    barragens.groupby([\\\"MINERIO_PRINCIPAL\\\"])  # Agrupa a partir desta coluna\\n    .agg(  # Fun\\u00e7\\u00e3o que cria c\\u00e1lculos a partir do agrupamento\\n        sum_pnsb=(\\\"dummy_PNSB\\\", \\\"sum\\\"),\\n        max_altura=(\\\"ALTURA_ATUAL_metros\\\", \\\"max\\\"),\\n        max_volume=(\\\"VOLUME_ATUAL_m3\\\", \\\"max\\\"),\\n        media_altura=(\\\"ALTURA_ATUAL_metros\\\", \\\"mean\\\"),\\n        media_volume=(\\\"VOLUME_ATUAL_m3\\\", \\\"mean\\\"),\\n    )\\n    .reset_index()\\n)\\n\\n# Mostrando a tabela\\nresumo.sort_values(by=\\\"sum_pnsb\\\", ascending=False).head()\";\n",
       "                var nbb_cells = Jupyter.notebook.get_cells();\n",
       "                for (var i = 0; i < nbb_cells.length; ++i) {\n",
       "                    if (nbb_cells[i].input_prompt_number == nbb_cell_id) {\n",
       "                        if (nbb_cells[i].get_text() == nbb_unformatted_code) {\n",
       "                             nbb_cells[i].set_text(nbb_formatted_code);\n",
       "                        }\n",
       "                        break;\n",
       "                    }\n",
       "                }\n",
       "            }, 500);\n",
       "            "
      ],
      "text/plain": [
       "<IPython.core.display.Javascript object>"
      ]
     },
     "metadata": {},
     "output_type": "display_data"
    }
   ],
   "source": [
    "# Resumo por minério\n",
    "resumo = (\n",
    "    barragens.groupby([\"MINERIO_PRINCIPAL\"])  # Agrupa a partir desta coluna\n",
    "    .agg(  # Função que cria cálculos a partir do agrupamento\n",
    "        sum_pnsb=(\"dummy_PNSB\", \"sum\"),\n",
    "        max_altura=(\"ALTURA_ATUAL_metros\", \"max\"),\n",
    "        max_volume=(\"VOLUME_ATUAL_m3\", \"max\"),\n",
    "        media_altura=(\"ALTURA_ATUAL_metros\", \"mean\"),\n",
    "        media_volume=(\"VOLUME_ATUAL_m3\", \"mean\"),\n",
    "    )\n",
    "    .reset_index()\n",
    ")\n",
    "\n",
    "# Mostrando a tabela\n",
    "resumo.sort_values(by=\"sum_pnsb\", ascending=False).head()"
   ]
  },
  {
   "cell_type": "code",
   "execution_count": 14,
   "id": "93428c32",
   "metadata": {},
   "outputs": [
    {
     "data": {
      "text/plain": [
       "Text(0.5, 1.0, 'Quantidade de barragens por tipo de minério em depósito')"
      ]
     },
     "execution_count": 14,
     "metadata": {},
     "output_type": "execute_result"
    },
    {
     "data": {
      "image/png": "[encoded data removed]",
      "text/plain": [
       "<Figure size 864x432 with 1 Axes>"
      ]
     },
     "metadata": {},
     "output_type": "display_data"
    },
    {
     "data": {
      "application/javascript": [
       "\n",
       "            setTimeout(function() {\n",
       "                var nbb_cell_id = 14;\n",
       "                var nbb_unformatted_code = \"# Vamos verificar as barragens por tipo de tipo de min\\u00e9rio\\nplt.figure(1, figsize=(12, 6))\\nbarragens[\\\"MINERIO_PRINCIPAL\\\"].value_counts()[:20].plot(kind=\\\"barh\\\", color=\\\"green\\\")\\nplt.title(\\\"Quantidade de barragens por tipo de min\\u00e9rio em dep\\u00f3sito\\\")\";\n",
       "                var nbb_formatted_code = \"# Vamos verificar as barragens por tipo de tipo de min\\u00e9rio\\nplt.figure(1, figsize=(12, 6))\\nbarragens[\\\"MINERIO_PRINCIPAL\\\"].value_counts()[:20].plot(kind=\\\"barh\\\", color=\\\"green\\\")\\nplt.title(\\\"Quantidade de barragens por tipo de min\\u00e9rio em dep\\u00f3sito\\\")\";\n",
       "                var nbb_cells = Jupyter.notebook.get_cells();\n",
       "                for (var i = 0; i < nbb_cells.length; ++i) {\n",
       "                    if (nbb_cells[i].input_prompt_number == nbb_cell_id) {\n",
       "                        if (nbb_cells[i].get_text() == nbb_unformatted_code) {\n",
       "                             nbb_cells[i].set_text(nbb_formatted_code);\n",
       "                        }\n",
       "                        break;\n",
       "                    }\n",
       "                }\n",
       "            }, 500);\n",
       "            "
      ],
      "text/plain": [
       "<IPython.core.display.Javascript object>"
      ]
     },
     "metadata": {},
     "output_type": "display_data"
    }
   ],
   "source": [
    "# Vamos verificar as barragens por tipo de tipo de minério\n",
    "plt.figure(1, figsize=(12, 6))\n",
    "barragens[\"MINERIO_PRINCIPAL\"].value_counts()[:20].plot(kind=\"barh\", color=\"green\")\n",
    "plt.title(\"Quantidade de barragens por tipo de minério em depósito\")"
   ]
  },
  {
   "cell_type": "markdown",
   "id": "dfd7fdb2",
   "metadata": {},
   "source": [
    "Vamos verificar se há relação entre a categoria de risco e altura da barragem e/ou volume da barragem."
   ]
  },
  {
   "cell_type": "code",
   "execution_count": 15,
   "id": "9c3f1da1",
   "metadata": {},
   "outputs": [
    {
     "data": {
      "text/html": [
       "<div>\n",
       "<style scoped>\n",
       "    .dataframe tbody tr th:only-of-type {\n",
       "        vertical-align: middle;\n",
       "    }\n",
       "\n",
       "    .dataframe tbody tr th {\n",
       "        vertical-align: top;\n",
       "    }\n",
       "\n",
       "    .dataframe thead th {\n",
       "        text-align: right;\n",
       "    }\n",
       "</style>\n",
       "<table border=\"1\" class=\"dataframe\">\n",
       "  <thead>\n",
       "    <tr style=\"text-align: right;\">\n",
       "      <th></th>\n",
       "      <th>ALTURA_ATUAL_metros</th>\n",
       "      <th>VOLUME_ATUAL_m3</th>\n",
       "    </tr>\n",
       "    <tr>\n",
       "      <th>CATEGORIA_DE_RISCO</th>\n",
       "      <th></th>\n",
       "      <th></th>\n",
       "    </tr>\n",
       "  </thead>\n",
       "  <tbody>\n",
       "    <tr>\n",
       "      <th>Alta</th>\n",
       "      <td>28.666667</td>\n",
       "      <td>3.380292e+05</td>\n",
       "    </tr>\n",
       "    <tr>\n",
       "      <th>Baixa</th>\n",
       "      <td>27.960723</td>\n",
       "      <td>8.960697e+06</td>\n",
       "    </tr>\n",
       "    <tr>\n",
       "      <th>Média</th>\n",
       "      <td>16.377273</td>\n",
       "      <td>2.019007e+06</td>\n",
       "    </tr>\n",
       "  </tbody>\n",
       "</table>\n",
       "</div>"
      ],
      "text/plain": [
       "                    ALTURA_ATUAL_metros  VOLUME_ATUAL_m3\n",
       "CATEGORIA_DE_RISCO                                      \n",
       "Alta                          28.666667     3.380292e+05\n",
       "Baixa                         27.960723     8.960697e+06\n",
       "Média                         16.377273     2.019007e+06"
      ]
     },
     "execution_count": 15,
     "metadata": {},
     "output_type": "execute_result"
    },
    {
     "data": {
      "application/javascript": [
       "\n",
       "            setTimeout(function() {\n",
       "                var nbb_cell_id = 15;\n",
       "                var nbb_unformatted_code = \"barragens.groupby(\\\"CATEGORIA_DE_RISCO\\\")[\\\"ALTURA_ATUAL_metros\\\", \\\"VOLUME_ATUAL_m3\\\"].mean()\";\n",
       "                var nbb_formatted_code = \"barragens.groupby(\\\"CATEGORIA_DE_RISCO\\\")[\\\"ALTURA_ATUAL_metros\\\", \\\"VOLUME_ATUAL_m3\\\"].mean()\";\n",
       "                var nbb_cells = Jupyter.notebook.get_cells();\n",
       "                for (var i = 0; i < nbb_cells.length; ++i) {\n",
       "                    if (nbb_cells[i].input_prompt_number == nbb_cell_id) {\n",
       "                        if (nbb_cells[i].get_text() == nbb_unformatted_code) {\n",
       "                             nbb_cells[i].set_text(nbb_formatted_code);\n",
       "                        }\n",
       "                        break;\n",
       "                    }\n",
       "                }\n",
       "            }, 500);\n",
       "            "
      ],
      "text/plain": [
       "<IPython.core.display.Javascript object>"
      ]
     },
     "metadata": {},
     "output_type": "display_data"
    }
   ],
   "source": [
    "barragens.groupby(\"CATEGORIA_DE_RISCO\")[\"ALTURA_ATUAL_metros\", \"VOLUME_ATUAL_m3\"].mean()"
   ]
  },
  {
   "cell_type": "markdown",
   "id": "4ae668dc",
   "metadata": {},
   "source": [
    "Vamos verificar a quantidade de categorias de risco"
   ]
  },
  {
   "cell_type": "code",
   "execution_count": 16,
   "id": "48c6f01b",
   "metadata": {},
   "outputs": [
    {
     "data": {
      "text/plain": [
       "Text(0.5, 1.0, 'Qtd. de barragens por Categorias de risco')"
      ]
     },
     "execution_count": 16,
     "metadata": {},
     "output_type": "execute_result"
    },
    {
     "data": {
      "image/png": "[encoded data removed]",
      "text/plain": [
       "<Figure size 864x360 with 1 Axes>"
      ]
     },
     "metadata": {},
     "output_type": "display_data"
    },
    {
     "data": {
      "application/javascript": [
       "\n",
       "            setTimeout(function() {\n",
       "                var nbb_cell_id = 16;\n",
       "                var nbb_unformatted_code = \"plt.figure(1, figsize=(12, 5))\\nbarragens[\\\"CATEGORIA_DE_RISCO\\\"].value_counts().plot(kind=\\\"barh\\\", colormap=\\\"Accent\\\")\\nplt.title(\\\"Qtd. de barragens por Categorias de risco\\\")\";\n",
       "                var nbb_formatted_code = \"plt.figure(1, figsize=(12, 5))\\nbarragens[\\\"CATEGORIA_DE_RISCO\\\"].value_counts().plot(kind=\\\"barh\\\", colormap=\\\"Accent\\\")\\nplt.title(\\\"Qtd. de barragens por Categorias de risco\\\")\";\n",
       "                var nbb_cells = Jupyter.notebook.get_cells();\n",
       "                for (var i = 0; i < nbb_cells.length; ++i) {\n",
       "                    if (nbb_cells[i].input_prompt_number == nbb_cell_id) {\n",
       "                        if (nbb_cells[i].get_text() == nbb_unformatted_code) {\n",
       "                             nbb_cells[i].set_text(nbb_formatted_code);\n",
       "                        }\n",
       "                        break;\n",
       "                    }\n",
       "                }\n",
       "            }, 500);\n",
       "            "
      ],
      "text/plain": [
       "<IPython.core.display.Javascript object>"
      ]
     },
     "metadata": {},
     "output_type": "display_data"
    }
   ],
   "source": [
    "plt.figure(1, figsize=(12, 5))\n",
    "barragens[\"CATEGORIA_DE_RISCO\"].value_counts().plot(kind=\"barh\", colormap=\"Accent\")\n",
    "plt.title(\"Qtd. de barragens por Categorias de risco\")"
   ]
  },
  {
   "cell_type": "markdown",
   "id": "a7b782c3",
   "metadata": {},
   "source": [
    "Vamos verificar a quantidade de barragens por estado:"
   ]
  },
  {
   "cell_type": "code",
   "execution_count": 17,
   "id": "79b80d84",
   "metadata": {},
   "outputs": [
    {
     "data": {
      "text/plain": [
       "Text(0.5, 1.0, 'Qtd. de barragens por UF')"
      ]
     },
     "execution_count": 17,
     "metadata": {},
     "output_type": "execute_result"
    },
    {
     "data": {
      "image/png": "[encoded data removed]",
      "text/plain": [
       "<Figure size 864x360 with 1 Axes>"
      ]
     },
     "metadata": {},
     "output_type": "display_data"
    },
    {
     "data": {
      "application/javascript": [
       "\n",
       "            setTimeout(function() {\n",
       "                var nbb_cell_id = 17;\n",
       "                var nbb_unformatted_code = \"# Quantidade de barragens por UF\\nplt.figure(1, figsize=(12, 5))\\nbarragens[\\\"UF\\\"].value_counts()[:10].plot(kind=\\\"bar\\\", color=\\\"green\\\")\\nplt.title(\\\"Qtd. de barragens por UF\\\")\";\n",
       "                var nbb_formatted_code = \"# Quantidade de barragens por UF\\nplt.figure(1, figsize=(12, 5))\\nbarragens[\\\"UF\\\"].value_counts()[:10].plot(kind=\\\"bar\\\", color=\\\"green\\\")\\nplt.title(\\\"Qtd. de barragens por UF\\\")\";\n",
       "                var nbb_cells = Jupyter.notebook.get_cells();\n",
       "                for (var i = 0; i < nbb_cells.length; ++i) {\n",
       "                    if (nbb_cells[i].input_prompt_number == nbb_cell_id) {\n",
       "                        if (nbb_cells[i].get_text() == nbb_unformatted_code) {\n",
       "                             nbb_cells[i].set_text(nbb_formatted_code);\n",
       "                        }\n",
       "                        break;\n",
       "                    }\n",
       "                }\n",
       "            }, 500);\n",
       "            "
      ],
      "text/plain": [
       "<IPython.core.display.Javascript object>"
      ]
     },
     "metadata": {},
     "output_type": "display_data"
    }
   ],
   "source": [
    "# Quantidade de barragens por UF\n",
    "plt.figure(1, figsize=(12, 5))\n",
    "barragens[\"UF\"].value_counts()[:10].plot(kind=\"bar\", color=\"green\")\n",
    "plt.title(\"Qtd. de barragens por UF\")"
   ]
  },
  {
   "cell_type": "markdown",
   "id": "f4b33468",
   "metadata": {},
   "source": [
    "Vamos verificar a relação entre estados e categorias de risco. Para isso precisaremos tornar a coluna de dano potencial associado em dummy. Faremos isto de outra forma desta vez."
   ]
  },
  {
   "cell_type": "code",
   "execution_count": 18,
   "id": "694e3b7f",
   "metadata": {},
   "outputs": [
    {
     "data": {
      "application/javascript": [
       "\n",
       "            setTimeout(function() {\n",
       "                var nbb_cell_id = 18;\n",
       "                var nbb_unformatted_code = \"# Criando dummy para cada dano potencial\\n\\nbarragens = pd.concat(\\n    [\\n        barragens,\\n        pd.get_dummies(barragens[\\\"DANO_POTENCIAL_ASSOCIADO\\\"], \\\"Dano_Potencial_\\\"),\\n    ],\\n    axis=1,\\n)\";\n",
       "                var nbb_formatted_code = \"# Criando dummy para cada dano potencial\\n\\nbarragens = pd.concat(\\n    [\\n        barragens,\\n        pd.get_dummies(barragens[\\\"DANO_POTENCIAL_ASSOCIADO\\\"], \\\"Dano_Potencial_\\\"),\\n    ],\\n    axis=1,\\n)\";\n",
       "                var nbb_cells = Jupyter.notebook.get_cells();\n",
       "                for (var i = 0; i < nbb_cells.length; ++i) {\n",
       "                    if (nbb_cells[i].input_prompt_number == nbb_cell_id) {\n",
       "                        if (nbb_cells[i].get_text() == nbb_unformatted_code) {\n",
       "                             nbb_cells[i].set_text(nbb_formatted_code);\n",
       "                        }\n",
       "                        break;\n",
       "                    }\n",
       "                }\n",
       "            }, 500);\n",
       "            "
      ],
      "text/plain": [
       "<IPython.core.display.Javascript object>"
      ]
     },
     "metadata": {},
     "output_type": "display_data"
    }
   ],
   "source": [
    "# Criando dummy para cada dano potencial\n",
    "\n",
    "barragens = pd.concat(\n",
    "    [\n",
    "        barragens,\n",
    "        pd.get_dummies(barragens[\"DANO_POTENCIAL_ASSOCIADO\"], \"Dano_Potencial_\"),\n",
    "    ],\n",
    "    axis=1,\n",
    ")"
   ]
  },
  {
   "cell_type": "code",
   "execution_count": 19,
   "id": "1672870b",
   "metadata": {},
   "outputs": [
    {
     "data": {
      "text/html": [
       "<div>\n",
       "<style scoped>\n",
       "    .dataframe tbody tr th:only-of-type {\n",
       "        vertical-align: middle;\n",
       "    }\n",
       "\n",
       "    .dataframe tbody tr th {\n",
       "        vertical-align: top;\n",
       "    }\n",
       "\n",
       "    .dataframe thead th {\n",
       "        text-align: right;\n",
       "    }\n",
       "</style>\n",
       "<table border=\"1\" class=\"dataframe\">\n",
       "  <thead>\n",
       "    <tr style=\"text-align: right;\">\n",
       "      <th></th>\n",
       "      <th>UF</th>\n",
       "      <th>contagem_geral</th>\n",
       "      <th>contagem_por_risco_alto</th>\n",
       "      <th>perc_risco_alto</th>\n",
       "      <th>Missing_Risco</th>\n",
       "      <th>Missing_Dano</th>\n",
       "    </tr>\n",
       "  </thead>\n",
       "  <tbody>\n",
       "    <tr>\n",
       "      <th>6</th>\n",
       "      <td>MG</td>\n",
       "      <td>324</td>\n",
       "      <td>132</td>\n",
       "      <td>0.4</td>\n",
       "      <td>0.4</td>\n",
       "      <td>0.4</td>\n",
       "    </tr>\n",
       "    <tr>\n",
       "      <th>9</th>\n",
       "      <td>PA</td>\n",
       "      <td>98</td>\n",
       "      <td>18</td>\n",
       "      <td>0.2</td>\n",
       "      <td>0.3</td>\n",
       "      <td>0.3</td>\n",
       "    </tr>\n",
       "    <tr>\n",
       "      <th>18</th>\n",
       "      <td>SP</td>\n",
       "      <td>66</td>\n",
       "      <td>7</td>\n",
       "      <td>0.1</td>\n",
       "      <td>0.7</td>\n",
       "      <td>0.7</td>\n",
       "    </tr>\n",
       "    <tr>\n",
       "      <th>8</th>\n",
       "      <td>MT</td>\n",
       "      <td>62</td>\n",
       "      <td>5</td>\n",
       "      <td>0.1</td>\n",
       "      <td>0.5</td>\n",
       "      <td>0.5</td>\n",
       "    </tr>\n",
       "    <tr>\n",
       "      <th>2</th>\n",
       "      <td>BA</td>\n",
       "      <td>46</td>\n",
       "      <td>6</td>\n",
       "      <td>0.1</td>\n",
       "      <td>0.7</td>\n",
       "      <td>0.7</td>\n",
       "    </tr>\n",
       "  </tbody>\n",
       "</table>\n",
       "</div>"
      ],
      "text/plain": [
       "    UF  contagem_geral  contagem_por_risco_alto  perc_risco_alto  \\\n",
       "6   MG             324                      132              0.4   \n",
       "9   PA              98                       18              0.2   \n",
       "18  SP              66                        7              0.1   \n",
       "8   MT              62                        5              0.1   \n",
       "2   BA              46                        6              0.1   \n",
       "\n",
       "    Missing_Risco  Missing_Dano  \n",
       "6             0.4           0.4  \n",
       "9             0.3           0.3  \n",
       "18            0.7           0.7  \n",
       "8             0.5           0.5  \n",
       "2             0.7           0.7  "
      ]
     },
     "execution_count": 19,
     "metadata": {},
     "output_type": "execute_result"
    },
    {
     "data": {
      "application/javascript": [
       "\n",
       "            setTimeout(function() {\n",
       "                var nbb_cell_id = 19;\n",
       "                var nbb_unformatted_code = \"# Risco de acordo com a UF\\nresumo_por_uf = (\\n    barragens.groupby([\\\"UF\\\"])\\n    .agg(\\n        contagem_geral=(\\\"Dano_Potencial__Alta\\\", \\\"count\\\"),\\n        contagem_por_risco_alto=(\\\"Dano_Potencial__Alta\\\", \\\"sum\\\"),\\n        perc_risco_alto=(\\\"Dano_Potencial__Alta\\\", \\\"mean\\\"),\\n        Missing_Risco=(\\\"CATEGORIA_DE_RISCO\\\", lambda x: x.isnull().mean(),),\\n        Missing_Dano=(\\\"DANO_POTENCIAL_ASSOCIADO\\\", lambda x: x.isnull().mean(),),\\n    )\\n    .reset_index()\\n    .round(1)\\n)\\n\\nresumo_por_uf.sort_values(by=\\\"contagem_geral\\\", ascending=False).head()\";\n",
       "                var nbb_formatted_code = \"# Risco de acordo com a UF\\nresumo_por_uf = (\\n    barragens.groupby([\\\"UF\\\"])\\n    .agg(\\n        contagem_geral=(\\\"Dano_Potencial__Alta\\\", \\\"count\\\"),\\n        contagem_por_risco_alto=(\\\"Dano_Potencial__Alta\\\", \\\"sum\\\"),\\n        perc_risco_alto=(\\\"Dano_Potencial__Alta\\\", \\\"mean\\\"),\\n        Missing_Risco=(\\\"CATEGORIA_DE_RISCO\\\", lambda x: x.isnull().mean(),),\\n        Missing_Dano=(\\\"DANO_POTENCIAL_ASSOCIADO\\\", lambda x: x.isnull().mean(),),\\n    )\\n    .reset_index()\\n    .round(1)\\n)\\n\\nresumo_por_uf.sort_values(by=\\\"contagem_geral\\\", ascending=False).head()\";\n",
       "                var nbb_cells = Jupyter.notebook.get_cells();\n",
       "                for (var i = 0; i < nbb_cells.length; ++i) {\n",
       "                    if (nbb_cells[i].input_prompt_number == nbb_cell_id) {\n",
       "                        if (nbb_cells[i].get_text() == nbb_unformatted_code) {\n",
       "                             nbb_cells[i].set_text(nbb_formatted_code);\n",
       "                        }\n",
       "                        break;\n",
       "                    }\n",
       "                }\n",
       "            }, 500);\n",
       "            "
      ],
      "text/plain": [
       "<IPython.core.display.Javascript object>"
      ]
     },
     "metadata": {},
     "output_type": "display_data"
    }
   ],
   "source": [
    "# Risco de acordo com a UF\n",
    "resumo_por_uf = (\n",
    "    barragens.groupby([\"UF\"])\n",
    "    .agg(\n",
    "        contagem_geral=(\"Dano_Potencial__Alta\", \"count\"),\n",
    "        contagem_por_risco_alto=(\"Dano_Potencial__Alta\", \"sum\"),\n",
    "        perc_risco_alto=(\"Dano_Potencial__Alta\", \"mean\"),\n",
    "        Missing_Risco=(\"CATEGORIA_DE_RISCO\", lambda x: x.isnull().mean(),),\n",
    "        Missing_Dano=(\"DANO_POTENCIAL_ASSOCIADO\", lambda x: x.isnull().mean(),),\n",
    "    )\n",
    "    .reset_index()\n",
    "    .round(1)\n",
    ")\n",
    "\n",
    "resumo_por_uf.sort_values(by=\"contagem_geral\", ascending=False).head()"
   ]
  },
  {
   "cell_type": "code",
   "execution_count": 20,
   "id": "46d64afb",
   "metadata": {},
   "outputs": [
    {
     "data": {
      "text/plain": [
       "<matplotlib.legend.Legend at 0x1d381116cd0>"
      ]
     },
     "execution_count": 20,
     "metadata": {},
     "output_type": "execute_result"
    },
    {
     "data": {
      "image/png": "[encoded data removed]",
      "text/plain": [
       "<Figure size 720x360 with 1 Axes>"
      ]
     },
     "metadata": {},
     "output_type": "display_data"
    },
    {
     "data": {
      "application/javascript": [
       "\n",
       "            setTimeout(function() {\n",
       "                var nbb_cell_id = 20;\n",
       "                var nbb_unformatted_code = \"# Verificando se algum estado possui mais barragens em risco\\npd.pivot_table(\\n    data=barragens, index=[\\\"UF\\\"], values=[\\\"Dano_Potencial__Alta\\\"], aggfunc=\\\"mean\\\"\\n).sort_values(by=\\\"Dano_Potencial__Alta\\\", ascending=False).plot(\\n    kind=\\\"bar\\\", color=\\\"green\\\"\\n)\\n\\nplt.title(\\\"% de Barragens com Dano Potencial Alto\\\")\\nplt.legend(\\\"\\\")\";\n",
       "                var nbb_formatted_code = \"# Verificando se algum estado possui mais barragens em risco\\npd.pivot_table(\\n    data=barragens, index=[\\\"UF\\\"], values=[\\\"Dano_Potencial__Alta\\\"], aggfunc=\\\"mean\\\"\\n).sort_values(by=\\\"Dano_Potencial__Alta\\\", ascending=False).plot(\\n    kind=\\\"bar\\\", color=\\\"green\\\"\\n)\\n\\nplt.title(\\\"% de Barragens com Dano Potencial Alto\\\")\\nplt.legend(\\\"\\\")\";\n",
       "                var nbb_cells = Jupyter.notebook.get_cells();\n",
       "                for (var i = 0; i < nbb_cells.length; ++i) {\n",
       "                    if (nbb_cells[i].input_prompt_number == nbb_cell_id) {\n",
       "                        if (nbb_cells[i].get_text() == nbb_unformatted_code) {\n",
       "                             nbb_cells[i].set_text(nbb_formatted_code);\n",
       "                        }\n",
       "                        break;\n",
       "                    }\n",
       "                }\n",
       "            }, 500);\n",
       "            "
      ],
      "text/plain": [
       "<IPython.core.display.Javascript object>"
      ]
     },
     "metadata": {},
     "output_type": "display_data"
    }
   ],
   "source": [
    "# Verificando se algum estado possui mais barragens em risco\n",
    "pd.pivot_table(\n",
    "    data=barragens, index=[\"UF\"], values=[\"Dano_Potencial__Alta\"], aggfunc=\"mean\"\n",
    ").sort_values(by=\"Dano_Potencial__Alta\", ascending=False).plot(\n",
    "    kind=\"bar\", color=\"green\"\n",
    ")\n",
    "\n",
    "plt.title(\"% de Barragens com Dano Potencial Alto\")\n",
    "plt.legend(\"\")"
   ]
  },
  {
   "cell_type": "markdown",
   "id": "5b744145",
   "metadata": {},
   "source": [
    "* Por mais que os estados de GO e SC não poussuam muitas barragens, o fato de possuírem cerca de 60% de barragens com risco potencial alto acende um alerta para um estudo mais aprofundado destes locais.\n",
    "\n",
    "* Um outro dado alarmante é perceber que MG, estado com maior número de barragens, possuir cerca de 40% de barragens com risco potencial alto, isso corresponde a mais de 120 barragens."
   ]
  },
  {
   "cell_type": "code",
   "execution_count": 21,
   "id": "ee49ac05",
   "metadata": {},
   "outputs": [
    {
     "data": {
      "text/plain": [
       "Text(0.5, 1.0, '% de barragens fora da PSNB')"
      ]
     },
     "execution_count": 21,
     "metadata": {},
     "output_type": "execute_result"
    },
    {
     "data": {
      "image/png": "[encoded data removed]",
      "text/plain": [
       "<Figure size 720x360 with 1 Axes>"
      ]
     },
     "metadata": {},
     "output_type": "display_data"
    },
    {
     "data": {
      "application/javascript": [
       "\n",
       "            setTimeout(function() {\n",
       "                var nbb_cell_id = 21;\n",
       "                var nbb_unformatted_code = \"# Vamos verificar os estados que mais tem barragens fora da PNSB\\nsns.barplot(\\n    data=resumo_por_uf.sort_values(by=\\\"Missing_Risco\\\", ascending=False),\\n    x=\\\"UF\\\",\\n    y=\\\"Missing_Risco\\\",\\n    color=\\\"green\\\",\\n)\\n\\nplt.title(\\\"% de barragens fora da PSNB\\\")\";\n",
       "                var nbb_formatted_code = \"# Vamos verificar os estados que mais tem barragens fora da PNSB\\nsns.barplot(\\n    data=resumo_por_uf.sort_values(by=\\\"Missing_Risco\\\", ascending=False),\\n    x=\\\"UF\\\",\\n    y=\\\"Missing_Risco\\\",\\n    color=\\\"green\\\",\\n)\\n\\nplt.title(\\\"% de barragens fora da PSNB\\\")\";\n",
       "                var nbb_cells = Jupyter.notebook.get_cells();\n",
       "                for (var i = 0; i < nbb_cells.length; ++i) {\n",
       "                    if (nbb_cells[i].input_prompt_number == nbb_cell_id) {\n",
       "                        if (nbb_cells[i].get_text() == nbb_unformatted_code) {\n",
       "                             nbb_cells[i].set_text(nbb_formatted_code);\n",
       "                        }\n",
       "                        break;\n",
       "                    }\n",
       "                }\n",
       "            }, 500);\n",
       "            "
      ],
      "text/plain": [
       "<IPython.core.display.Javascript object>"
      ]
     },
     "metadata": {},
     "output_type": "display_data"
    }
   ],
   "source": [
    "# Vamos verificar os estados que mais tem barragens fora da PNSB\n",
    "sns.barplot(\n",
    "    data=resumo_por_uf.sort_values(by=\"Missing_Risco\", ascending=False),\n",
    "    x=\"UF\",\n",
    "    y=\"Missing_Risco\",\n",
    "    color=\"green\",\n",
    ")\n",
    "\n",
    "plt.title(\"% de barragens fora da PSNB\")"
   ]
  },
  {
   "cell_type": "markdown",
   "id": "2e8c3394",
   "metadata": {},
   "source": [
    "Todas as barragens de PB e PI não estão incluídas na PNSB"
   ]
  },
  {
   "cell_type": "code",
   "execution_count": 22,
   "id": "243bca12",
   "metadata": {},
   "outputs": [
    {
     "data": {
      "text/plain": [
       "<matplotlib.legend.Legend at 0x1d381466d00>"
      ]
     },
     "execution_count": 22,
     "metadata": {},
     "output_type": "execute_result"
    },
    {
     "data": {
      "image/png": "[encoded data removed]",
      "text/plain": [
       "<Figure size 720x360 with 1 Axes>"
      ]
     },
     "metadata": {},
     "output_type": "display_data"
    },
    {
     "data": {
      "application/javascript": [
       "\n",
       "            setTimeout(function() {\n",
       "                var nbb_cell_id = 22;\n",
       "                var nbb_unformatted_code = \"# Vamos verificar a rela\\u00e7\\u00e3o entre o min\\u00e9rio principal e dano potencial alto\\npd.pivot_table(\\n    data=barragens,\\n    index=[\\\"MINERIO_PRINCIPAL\\\"],\\n    values=[\\\"Dano_Potencial__Alta\\\"],\\n    aggfunc=\\\"mean\\\",\\n).sort_values(by=\\\"Dano_Potencial__Alta\\\", ascending=False).head(20).plot(\\n    kind=\\\"bar\\\", color=\\\"green\\\"\\n)\\n\\nplt.title(\\\"% de Barragens com Dano Potencial Alto por Min\\u00e9rio\\\")\\nplt.xlabel(\\\"\\\")\\nplt.legend(\\\"\\\")\";\n",
       "                var nbb_formatted_code = \"# Vamos verificar a rela\\u00e7\\u00e3o entre o min\\u00e9rio principal e dano potencial alto\\npd.pivot_table(\\n    data=barragens,\\n    index=[\\\"MINERIO_PRINCIPAL\\\"],\\n    values=[\\\"Dano_Potencial__Alta\\\"],\\n    aggfunc=\\\"mean\\\",\\n).sort_values(by=\\\"Dano_Potencial__Alta\\\", ascending=False).head(20).plot(\\n    kind=\\\"bar\\\", color=\\\"green\\\"\\n)\\n\\nplt.title(\\\"% de Barragens com Dano Potencial Alto por Min\\u00e9rio\\\")\\nplt.xlabel(\\\"\\\")\\nplt.legend(\\\"\\\")\";\n",
       "                var nbb_cells = Jupyter.notebook.get_cells();\n",
       "                for (var i = 0; i < nbb_cells.length; ++i) {\n",
       "                    if (nbb_cells[i].input_prompt_number == nbb_cell_id) {\n",
       "                        if (nbb_cells[i].get_text() == nbb_unformatted_code) {\n",
       "                             nbb_cells[i].set_text(nbb_formatted_code);\n",
       "                        }\n",
       "                        break;\n",
       "                    }\n",
       "                }\n",
       "            }, 500);\n",
       "            "
      ],
      "text/plain": [
       "<IPython.core.display.Javascript object>"
      ]
     },
     "metadata": {},
     "output_type": "display_data"
    }
   ],
   "source": [
    "# Vamos verificar a relação entre o minério principal e dano potencial alto\n",
    "pd.pivot_table(\n",
    "    data=barragens,\n",
    "    index=[\"MINERIO_PRINCIPAL\"],\n",
    "    values=[\"Dano_Potencial__Alta\"],\n",
    "    aggfunc=\"mean\",\n",
    ").sort_values(by=\"Dano_Potencial__Alta\", ascending=False).head(20).plot(\n",
    "    kind=\"bar\", color=\"green\"\n",
    ")\n",
    "\n",
    "plt.title(\"% de Barragens com Dano Potencial Alto por Minério\")\n",
    "plt.xlabel(\"\")\n",
    "plt.legend(\"\")"
   ]
  },
  {
   "cell_type": "markdown",
   "id": "9e4e0246",
   "metadata": {},
   "source": [
    "Vamos verificar se uma empresa possuí mais barragens com risco alto."
   ]
  },
  {
   "cell_type": "code",
   "execution_count": 23,
   "id": "c060adf2",
   "metadata": {},
   "outputs": [
    {
     "data": {
      "text/html": [
       "<div>\n",
       "<style scoped>\n",
       "    .dataframe tbody tr th:only-of-type {\n",
       "        vertical-align: middle;\n",
       "    }\n",
       "\n",
       "    .dataframe tbody tr th {\n",
       "        vertical-align: top;\n",
       "    }\n",
       "\n",
       "    .dataframe thead th {\n",
       "        text-align: right;\n",
       "    }\n",
       "</style>\n",
       "<table border=\"1\" class=\"dataframe\">\n",
       "  <thead>\n",
       "    <tr style=\"text-align: right;\">\n",
       "      <th></th>\n",
       "      <th>NOME_DO_EMPREENDEDOR</th>\n",
       "      <th>contagem_geral</th>\n",
       "      <th>contagem_por_risco_alto</th>\n",
       "      <th>perc_risco_alto</th>\n",
       "      <th>Missing_Risco</th>\n",
       "      <th>Missing_Dano</th>\n",
       "    </tr>\n",
       "  </thead>\n",
       "  <tbody>\n",
       "    <tr>\n",
       "      <th>215</th>\n",
       "      <td>Vale S A Filial: Vale Itabira</td>\n",
       "      <td>17</td>\n",
       "      <td>13</td>\n",
       "      <td>0.8</td>\n",
       "      <td>0.1</td>\n",
       "      <td>0.1</td>\n",
       "    </tr>\n",
       "    <tr>\n",
       "      <th>216</th>\n",
       "      <td>Vale S A Filial: Vale Itabiritos</td>\n",
       "      <td>19</td>\n",
       "      <td>11</td>\n",
       "      <td>0.6</td>\n",
       "      <td>0.3</td>\n",
       "      <td>0.3</td>\n",
       "    </tr>\n",
       "    <tr>\n",
       "      <th>220</th>\n",
       "      <td>Vale S A Filial: Vale Minas Centrais</td>\n",
       "      <td>20</td>\n",
       "      <td>10</td>\n",
       "      <td>0.5</td>\n",
       "      <td>0.4</td>\n",
       "      <td>0.4</td>\n",
       "    </tr>\n",
       "    <tr>\n",
       "      <th>223</th>\n",
       "      <td>Vale S A Filial: Vale Paraopeba</td>\n",
       "      <td>11</td>\n",
       "      <td>9</td>\n",
       "      <td>0.8</td>\n",
       "      <td>0.0</td>\n",
       "      <td>0.0</td>\n",
       "    </tr>\n",
       "    <tr>\n",
       "      <th>83</th>\n",
       "      <td>Imerys. Rio Capim Caulim S A</td>\n",
       "      <td>10</td>\n",
       "      <td>7</td>\n",
       "      <td>0.7</td>\n",
       "      <td>0.0</td>\n",
       "      <td>0.0</td>\n",
       "    </tr>\n",
       "  </tbody>\n",
       "</table>\n",
       "</div>"
      ],
      "text/plain": [
       "                     NOME_DO_EMPREENDEDOR  contagem_geral  \\\n",
       "215         Vale S A Filial: Vale Itabira              17   \n",
       "216      Vale S A Filial: Vale Itabiritos              19   \n",
       "220  Vale S A Filial: Vale Minas Centrais              20   \n",
       "223       Vale S A Filial: Vale Paraopeba              11   \n",
       "83           Imerys. Rio Capim Caulim S A              10   \n",
       "\n",
       "     contagem_por_risco_alto  perc_risco_alto  Missing_Risco  Missing_Dano  \n",
       "215                       13              0.8            0.1           0.1  \n",
       "216                       11              0.6            0.3           0.3  \n",
       "220                       10              0.5            0.4           0.4  \n",
       "223                        9              0.8            0.0           0.0  \n",
       "83                         7              0.7            0.0           0.0  "
      ]
     },
     "execution_count": 23,
     "metadata": {},
     "output_type": "execute_result"
    },
    {
     "data": {
      "application/javascript": [
       "\n",
       "            setTimeout(function() {\n",
       "                var nbb_cell_id = 23;\n",
       "                var nbb_unformatted_code = \"# Risco de acordo com a empresa\\nresumo_por_empresa = (\\n    barragens.groupby([\\\"NOME_DO_EMPREENDEDOR\\\"])\\n    .agg(\\n        contagem_geral=(\\\"Dano_Potencial__Alta\\\", \\\"count\\\"),\\n        contagem_por_risco_alto=(\\\"Dano_Potencial__Alta\\\", \\\"sum\\\"),\\n        perc_risco_alto=(\\\"Dano_Potencial__Alta\\\", \\\"mean\\\"),\\n        Missing_Risco=(\\\"CATEGORIA_DE_RISCO\\\", lambda x: x.isnull().mean(),),\\n        Missing_Dano=(\\\"DANO_POTENCIAL_ASSOCIADO\\\", lambda x: x.isnull().mean(),),\\n    )\\n    .reset_index()\\n    .round(1)\\n)\\n\\nresumo_por_empresa.sort_values(by=\\\"contagem_por_risco_alto\\\", ascending=False).head()\";\n",
       "                var nbb_formatted_code = \"# Risco de acordo com a empresa\\nresumo_por_empresa = (\\n    barragens.groupby([\\\"NOME_DO_EMPREENDEDOR\\\"])\\n    .agg(\\n        contagem_geral=(\\\"Dano_Potencial__Alta\\\", \\\"count\\\"),\\n        contagem_por_risco_alto=(\\\"Dano_Potencial__Alta\\\", \\\"sum\\\"),\\n        perc_risco_alto=(\\\"Dano_Potencial__Alta\\\", \\\"mean\\\"),\\n        Missing_Risco=(\\\"CATEGORIA_DE_RISCO\\\", lambda x: x.isnull().mean(),),\\n        Missing_Dano=(\\\"DANO_POTENCIAL_ASSOCIADO\\\", lambda x: x.isnull().mean(),),\\n    )\\n    .reset_index()\\n    .round(1)\\n)\\n\\nresumo_por_empresa.sort_values(by=\\\"contagem_por_risco_alto\\\", ascending=False).head()\";\n",
       "                var nbb_cells = Jupyter.notebook.get_cells();\n",
       "                for (var i = 0; i < nbb_cells.length; ++i) {\n",
       "                    if (nbb_cells[i].input_prompt_number == nbb_cell_id) {\n",
       "                        if (nbb_cells[i].get_text() == nbb_unformatted_code) {\n",
       "                             nbb_cells[i].set_text(nbb_formatted_code);\n",
       "                        }\n",
       "                        break;\n",
       "                    }\n",
       "                }\n",
       "            }, 500);\n",
       "            "
      ],
      "text/plain": [
       "<IPython.core.display.Javascript object>"
      ]
     },
     "metadata": {},
     "output_type": "display_data"
    }
   ],
   "source": [
    "# Risco de acordo com a empresa\n",
    "resumo_por_empresa = (\n",
    "    barragens.groupby([\"NOME_DO_EMPREENDEDOR\"])\n",
    "    .agg(\n",
    "        contagem_geral=(\"Dano_Potencial__Alta\", \"count\"),\n",
    "        contagem_por_risco_alto=(\"Dano_Potencial__Alta\", \"sum\"),\n",
    "        perc_risco_alto=(\"Dano_Potencial__Alta\", \"mean\"),\n",
    "        Missing_Risco=(\"CATEGORIA_DE_RISCO\", lambda x: x.isnull().mean(),),\n",
    "        Missing_Dano=(\"DANO_POTENCIAL_ASSOCIADO\", lambda x: x.isnull().mean(),),\n",
    "    )\n",
    "    .reset_index()\n",
    "    .round(1)\n",
    ")\n",
    "\n",
    "resumo_por_empresa.sort_values(by=\"contagem_por_risco_alto\", ascending=False).head()"
   ]
  },
  {
   "cell_type": "code",
   "execution_count": 24,
   "id": "589b2a50",
   "metadata": {},
   "outputs": [
    {
     "data": {
      "text/plain": [
       "<matplotlib.legend.Legend at 0x1d38141deb0>"
      ]
     },
     "execution_count": 24,
     "metadata": {},
     "output_type": "execute_result"
    },
    {
     "data": {
      "image/png": "[encoded data removed]",
      "text/plain": [
       "<Figure size 720x360 with 1 Axes>"
      ]
     },
     "metadata": {},
     "output_type": "display_data"
    },
    {
     "data": {
      "application/javascript": [
       "\n",
       "            setTimeout(function() {\n",
       "                var nbb_cell_id = 24;\n",
       "                var nbb_unformatted_code = \"# Vamos verificar as empresas com maior quantidade de barragens com dano potencial\\nsns.barplot(\\n    data=resumo_por_empresa.sort_values(\\n        by=\\\"contagem_por_risco_alto\\\", ascending=False\\n    ).head(10),\\n    x=\\\"NOME_DO_EMPREENDEDOR\\\",\\n    y=\\\"contagem_por_risco_alto\\\",\\n    color=\\\"green\\\",\\n)\\n\\nplt.title(\\\"Qtd. de barragens com dano potencial alto por empresa\\\")\\nplt.xticks(rotation=90)\\nplt.xlabel(\\\"\\\")\\nplt.ylabel(\\\"\\\")\\nplt.legend(\\\"\\\")\";\n",
       "                var nbb_formatted_code = \"# Vamos verificar as empresas com maior quantidade de barragens com dano potencial\\nsns.barplot(\\n    data=resumo_por_empresa.sort_values(\\n        by=\\\"contagem_por_risco_alto\\\", ascending=False\\n    ).head(10),\\n    x=\\\"NOME_DO_EMPREENDEDOR\\\",\\n    y=\\\"contagem_por_risco_alto\\\",\\n    color=\\\"green\\\",\\n)\\n\\nplt.title(\\\"Qtd. de barragens com dano potencial alto por empresa\\\")\\nplt.xticks(rotation=90)\\nplt.xlabel(\\\"\\\")\\nplt.ylabel(\\\"\\\")\\nplt.legend(\\\"\\\")\";\n",
       "                var nbb_cells = Jupyter.notebook.get_cells();\n",
       "                for (var i = 0; i < nbb_cells.length; ++i) {\n",
       "                    if (nbb_cells[i].input_prompt_number == nbb_cell_id) {\n",
       "                        if (nbb_cells[i].get_text() == nbb_unformatted_code) {\n",
       "                             nbb_cells[i].set_text(nbb_formatted_code);\n",
       "                        }\n",
       "                        break;\n",
       "                    }\n",
       "                }\n",
       "            }, 500);\n",
       "            "
      ],
      "text/plain": [
       "<IPython.core.display.Javascript object>"
      ]
     },
     "metadata": {},
     "output_type": "display_data"
    }
   ],
   "source": [
    "# Vamos verificar as empresas com maior quantidade de barragens com dano potencial\n",
    "sns.barplot(\n",
    "    data=resumo_por_empresa.sort_values(\n",
    "        by=\"contagem_por_risco_alto\", ascending=False\n",
    "    ).head(10),\n",
    "    x=\"NOME_DO_EMPREENDEDOR\",\n",
    "    y=\"contagem_por_risco_alto\",\n",
    "    color=\"green\",\n",
    ")\n",
    "\n",
    "plt.title(\"Qtd. de barragens com dano potencial alto por empresa\")\n",
    "plt.xticks(rotation=90)\n",
    "plt.xlabel(\"\")\n",
    "plt.ylabel(\"\")\n",
    "plt.legend(\"\")"
   ]
  },
  {
   "cell_type": "markdown",
   "id": "97daaa97",
   "metadata": {},
   "source": [
    "Podemos verificar que a mineradora Vale domina o gráfico que diz respeito a quantidade de barragens com dano potencial alto."
   ]
  }
 ],
 "metadata": {
  "kernelspec": {
   "display_name": "Python 3 (ipykernel)",
   "language": "python",
   "name": "python3"
  },
  "language_info": {
   "codemirror_mode": {
    "name": "ipython",
    "version": 3
   },
   "file_extension": ".py",
   "mimetype": "text/x-python",
   "name": "python",
   "nbconvert_exporter": "python",
   "pygments_lexer": "ipython3",
   "version": "3.9.12"
  }
 },
 "nbformat": 4,
 "nbformat_minor": 5
}
